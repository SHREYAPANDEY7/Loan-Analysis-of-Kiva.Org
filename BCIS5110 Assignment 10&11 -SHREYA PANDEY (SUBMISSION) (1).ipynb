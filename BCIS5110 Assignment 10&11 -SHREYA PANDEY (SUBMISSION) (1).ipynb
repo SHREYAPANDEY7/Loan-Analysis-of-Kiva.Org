{
 "cells": [
  {
   "cell_type": "markdown",
   "metadata": {},
   "source": [
    "## BCIS5110 "
   ]
  },
  {
   "cell_type": "markdown",
   "metadata": {},
   "source": [
    "we start to work on Kiva datasets."
   ]
  },
  {
   "cell_type": "code",
   "execution_count": 1,
   "metadata": {},
   "outputs": [],
   "source": [
    "# By default, when you run each cell, only the last output of the codes will show.\n",
    "# This code makes all outputs of a cell show.\n",
    "from IPython.core.interactiveshell import InteractiveShell\n",
    "InteractiveShell.ast_node_interactivity = \"all\""
   ]
  },
  {
   "cell_type": "code",
   "execution_count": 2,
   "metadata": {},
   "outputs": [],
   "source": [
    "import pandas as pd\n",
    "import numpy as np\n",
    "import seaborn as sns\n",
    "from sklearn.linear_model import LogisticRegression\n",
    "from sklearn.tree import DecisionTreeRegressor\n",
    "from sklearn.metrics import accuracy_score\n",
    "from sklearn.model_selection import train_test_split\n"
   ]
  },
  {
   "cell_type": "markdown",
   "metadata": {},
   "source": [
    "1. Read in the three tables (the original dataset you downloaded, not the sample I provided for your initial report.)"
   ]
  },
  {
   "cell_type": "code",
   "execution_count": 4,
   "metadata": {},
   "outputs": [],
   "source": [
    "loan = pd.read_csv ('./kiva/loans.csv')\n"
   ]
  },
  {
   "cell_type": "code",
   "execution_count": 4,
   "metadata": {},
   "outputs": [],
   "source": [
    "lenders = pd.read_csv ('./kiva/lenders.csv')\n",
    "loanlen =  pd.read_csv ('./kiva/loans_lenders.csv')"
   ]
  },
  {
   "cell_type": "markdown",
   "metadata": {},
   "source": [
    "2. Display the information about each dataframe."
   ]
  },
  {
   "cell_type": "code",
   "execution_count": 5,
   "metadata": {},
   "outputs": [
    {
     "name": "stdout",
     "output_type": "stream",
     "text": [
      "<class 'pandas.core.frame.DataFrame'>\n",
      "RangeIndex: 2185241 entries, 0 to 2185240\n",
      "Data columns (total 34 columns):\n",
      " #   Column                           Dtype  \n",
      "---  ------                           -----  \n",
      " 0   LOAN_ID                          int64  \n",
      " 1   LOAN_NAME                        object \n",
      " 2   ORIGINAL_LANGUAGE                object \n",
      " 3   DESCRIPTION                      object \n",
      " 4   DESCRIPTION_TRANSLATED           object \n",
      " 5   FUNDED_AMOUNT                    float64\n",
      " 6   LOAN_AMOUNT                      float64\n",
      " 7   STATUS                           object \n",
      " 8   IMAGE_ID                         float64\n",
      " 9   VIDEO_ID                         float64\n",
      " 10  ACTIVITY_NAME                    object \n",
      " 11  SECTOR_NAME                      object \n",
      " 12  LOAN_USE                         object \n",
      " 13  COUNTRY_CODE                     object \n",
      " 14  COUNTRY_NAME                     object \n",
      " 15  TOWN_NAME                        object \n",
      " 16  CURRENCY_POLICY                  object \n",
      " 17  CURRENCY_EXCHANGE_COVERAGE_RATE  float64\n",
      " 18  CURRENCY                         object \n",
      " 19  PARTNER_ID                       int64  \n",
      " 20  POSTED_TIME                      object \n",
      " 21  PLANNED_EXPIRATION_TIME          object \n",
      " 22  DISBURSE_TIME                    object \n",
      " 23  RAISED_TIME                      object \n",
      " 24  LENDER_TERM                      float64\n",
      " 25  NUM_LENDERS_TOTAL                int64  \n",
      " 26  NUM_JOURNAL_ENTRIES              int64  \n",
      " 27  NUM_BULK_ENTRIES                 int64  \n",
      " 28  TAGS                             object \n",
      " 29  BORROWER_NAMES                   object \n",
      " 30  BORROWER_GENDERS                 object \n",
      " 31  BORROWER_PICTURED                object \n",
      " 32  REPAYMENT_INTERVAL               object \n",
      " 33  DISTRIBUTION_MODEL               object \n",
      "dtypes: float64(6), int64(5), object(23)\n",
      "memory usage: 566.9+ MB\n"
     ]
    }
   ],
   "source": [
    "loan.info()"
   ]
  },
  {
   "cell_type": "code",
   "execution_count": 5,
   "metadata": {},
   "outputs": [
    {
     "ename": "NameError",
     "evalue": "name 'lenders' is not defined",
     "output_type": "error",
     "traceback": [
      "\u001b[1;31m---------------------------------------------------------------------------\u001b[0m",
      "\u001b[1;31mNameError\u001b[0m                                 Traceback (most recent call last)",
      "\u001b[1;32m~\\AppData\\Local\\Temp/ipykernel_6984/132650141.py\u001b[0m in \u001b[0;36m<module>\u001b[1;34m\u001b[0m\n\u001b[1;32m----> 1\u001b[1;33m \u001b[0mlenders\u001b[0m\u001b[1;33m.\u001b[0m\u001b[0minfo\u001b[0m\u001b[1;33m(\u001b[0m\u001b[1;33m)\u001b[0m\u001b[1;33m\u001b[0m\u001b[1;33m\u001b[0m\u001b[0m\n\u001b[0m",
      "\u001b[1;31mNameError\u001b[0m: name 'lenders' is not defined"
     ]
    }
   ],
   "source": [
    "lenders.info()"
   ]
  },
  {
   "cell_type": "code",
   "execution_count": 7,
   "metadata": {},
   "outputs": [
    {
     "name": "stdout",
     "output_type": "stream",
     "text": [
      "<class 'pandas.core.frame.DataFrame'>\n",
      "RangeIndex: 2131078 entries, 0 to 2131077\n",
      "Data columns (total 2 columns):\n",
      " #   Column   Dtype \n",
      "---  ------   ----- \n",
      " 0   LOAN_ID  int64 \n",
      " 1   LENDERS  object\n",
      "dtypes: int64(1), object(1)\n",
      "memory usage: 32.5+ MB\n"
     ]
    }
   ],
   "source": [
    "loanlen.info()"
   ]
  },
  {
   "cell_type": "markdown",
   "metadata": {},
   "source": [
    "\n",
    "3. Check for missing values of the loans dataframe. You can use sum() to find out the number of missing values."
   ]
  },
  {
   "cell_type": "code",
   "execution_count": 6,
   "metadata": {},
   "outputs": [
    {
     "data": {
      "text/plain": [
       "LOAN_ID                                  0\n",
       "LOAN_NAME                            50387\n",
       "ORIGINAL_LANGUAGE                    46038\n",
       "DESCRIPTION                          46267\n",
       "DESCRIPTION_TRANSLATED              455653\n",
       "FUNDED_AMOUNT                            0\n",
       "LOAN_AMOUNT                              0\n",
       "STATUS                                   0\n",
       "IMAGE_ID                             46038\n",
       "VIDEO_ID                           2184021\n",
       "ACTIVITY_NAME                            0\n",
       "SECTOR_NAME                              0\n",
       "LOAN_USE                             46061\n",
       "COUNTRY_CODE                            36\n",
       "COUNTRY_NAME                             0\n",
       "TOWN_NAME                           179002\n",
       "CURRENCY_POLICY                          0\n",
       "CURRENCY_EXCHANGE_COVERAGE_RATE     526965\n",
       "CURRENCY                                 0\n",
       "PARTNER_ID                               0\n",
       "POSTED_TIME                              0\n",
       "PLANNED_EXPIRATION_TIME             371834\n",
       "DISBURSE_TIME                         4276\n",
       "RAISED_TIME                         101920\n",
       "LENDER_TERM                             24\n",
       "NUM_LENDERS_TOTAL                        0\n",
       "NUM_JOURNAL_ENTRIES                      0\n",
       "NUM_BULK_ENTRIES                         0\n",
       "TAGS                                975398\n",
       "BORROWER_NAMES                       50387\n",
       "BORROWER_GENDERS                     46038\n",
       "BORROWER_PICTURED                    46038\n",
       "REPAYMENT_INTERVAL                       0\n",
       "DISTRIBUTION_MODEL                       0\n",
       "dtype: int64"
      ]
     },
     "execution_count": 6,
     "metadata": {},
     "output_type": "execute_result"
    }
   ],
   "source": [
    "loan.isnull().sum()"
   ]
  },
  {
   "cell_type": "markdown",
   "metadata": {},
   "source": [
    "4. First, we check the dependent variable 'STATUS' in the loans dataframe. How many unique values?"
   ]
  },
  {
   "cell_type": "code",
   "execution_count": 7,
   "metadata": {},
   "outputs": [
    {
     "data": {
      "text/plain": [
       "array(['funded', 'expired', 'fundRaising', 'refunded'], dtype=object)"
      ]
     },
     "execution_count": 7,
     "metadata": {},
     "output_type": "execute_result"
    }
   ],
   "source": [
    "loan['STATUS'].unique()"
   ]
  },
  {
   "cell_type": "markdown",
   "metadata": {},
   "source": [
    "5. How many observations for each category of 'STATUS'? (Which function we have learned can do that?)"
   ]
  },
  {
   "cell_type": "code",
   "execution_count": 8,
   "metadata": {},
   "outputs": [
    {
     "data": {
      "text/plain": [
       "funded         2076778\n",
       "expired          93419\n",
       "refunded          9327\n",
       "fundRaising       5717\n",
       "Name: STATUS, dtype: int64"
      ]
     },
     "execution_count": 8,
     "metadata": {},
     "output_type": "execute_result"
    }
   ],
   "source": [
    "loan['STATUS'].value_counts()"
   ]
  },
  {
   "cell_type": "markdown",
   "metadata": {},
   "source": [
    "6. Our purpose is to build a model that predicts whether a loan can get funded based on loan features. So, which suggests the loan is funded? Which not? Which should we ignore?<br>\n",
    "1) Delete the records with the category we can ignore.<br>\n",
    "2) Recode the three categories to two categories (funded, notfunded)<br>\n",
    "The recoded variable will be our target variable."
   ]
  },
  {
   "cell_type": "code",
   "execution_count": 9,
   "metadata": {},
   "outputs": [
    {
     "data": {
      "text/html": [
       "<div>\n",
       "<style scoped>\n",
       "    .dataframe tbody tr th:only-of-type {\n",
       "        vertical-align: middle;\n",
       "    }\n",
       "\n",
       "    .dataframe tbody tr th {\n",
       "        vertical-align: top;\n",
       "    }\n",
       "\n",
       "    .dataframe thead th {\n",
       "        text-align: right;\n",
       "    }\n",
       "</style>\n",
       "<table border=\"1\" class=\"dataframe\">\n",
       "  <thead>\n",
       "    <tr style=\"text-align: right;\">\n",
       "      <th></th>\n",
       "      <th>LOAN_ID</th>\n",
       "      <th>LOAN_NAME</th>\n",
       "      <th>ORIGINAL_LANGUAGE</th>\n",
       "      <th>DESCRIPTION</th>\n",
       "      <th>DESCRIPTION_TRANSLATED</th>\n",
       "      <th>FUNDED_AMOUNT</th>\n",
       "      <th>LOAN_AMOUNT</th>\n",
       "      <th>STATUS</th>\n",
       "      <th>IMAGE_ID</th>\n",
       "      <th>VIDEO_ID</th>\n",
       "      <th>...</th>\n",
       "      <th>LENDER_TERM</th>\n",
       "      <th>NUM_LENDERS_TOTAL</th>\n",
       "      <th>NUM_JOURNAL_ENTRIES</th>\n",
       "      <th>NUM_BULK_ENTRIES</th>\n",
       "      <th>TAGS</th>\n",
       "      <th>BORROWER_NAMES</th>\n",
       "      <th>BORROWER_GENDERS</th>\n",
       "      <th>BORROWER_PICTURED</th>\n",
       "      <th>REPAYMENT_INTERVAL</th>\n",
       "      <th>DISTRIBUTION_MODEL</th>\n",
       "    </tr>\n",
       "  </thead>\n",
       "  <tbody>\n",
       "    <tr>\n",
       "      <th>0</th>\n",
       "      <td>1057058</td>\n",
       "      <td>\\tLucy</td>\n",
       "      <td>English</td>\n",
       "      <td>Lucy is a married woman and has been blessed w...</td>\n",
       "      <td>Lucy is a married woman and has been blessed w...</td>\n",
       "      <td>300.0</td>\n",
       "      <td>300.0</td>\n",
       "      <td>funded</td>\n",
       "      <td>2157387.0</td>\n",
       "      <td>NaN</td>\n",
       "      <td>...</td>\n",
       "      <td>14.0</td>\n",
       "      <td>11</td>\n",
       "      <td>1</td>\n",
       "      <td>1</td>\n",
       "      <td>#Fabrics, #Parent, #Woman-Owned Business, #Sch...</td>\n",
       "      <td>\\tLucy</td>\n",
       "      <td>female</td>\n",
       "      <td>true</td>\n",
       "      <td>monthly</td>\n",
       "      <td>field_partner</td>\n",
       "    </tr>\n",
       "    <tr>\n",
       "      <th>1</th>\n",
       "      <td>509472</td>\n",
       "      <td>Madosho</td>\n",
       "      <td>English</td>\n",
       "      <td>Madosho is a very responsible man who values h...</td>\n",
       "      <td>NaN</td>\n",
       "      <td>300.0</td>\n",
       "      <td>300.0</td>\n",
       "      <td>funded</td>\n",
       "      <td>942435.0</td>\n",
       "      <td>NaN</td>\n",
       "      <td>...</td>\n",
       "      <td>14.0</td>\n",
       "      <td>6</td>\n",
       "      <td>3</td>\n",
       "      <td>2</td>\n",
       "      <td>NaN</td>\n",
       "      <td>Madosho</td>\n",
       "      <td>male</td>\n",
       "      <td>true</td>\n",
       "      <td>monthly</td>\n",
       "      <td>field_partner</td>\n",
       "    </tr>\n",
       "    <tr>\n",
       "      <th>2</th>\n",
       "      <td>344324</td>\n",
       "      <td>Marcelina</td>\n",
       "      <td>English</td>\n",
       "      <td>Marcelina is married with 2 child. She is a ve...</td>\n",
       "      <td>NaN</td>\n",
       "      <td>475.0</td>\n",
       "      <td>475.0</td>\n",
       "      <td>funded</td>\n",
       "      <td>886916.0</td>\n",
       "      <td>NaN</td>\n",
       "      <td>...</td>\n",
       "      <td>13.0</td>\n",
       "      <td>13</td>\n",
       "      <td>2</td>\n",
       "      <td>1</td>\n",
       "      <td>NaN</td>\n",
       "      <td>Marcelina</td>\n",
       "      <td>female</td>\n",
       "      <td>true</td>\n",
       "      <td>monthly</td>\n",
       "      <td>field_partner</td>\n",
       "    </tr>\n",
       "    <tr>\n",
       "      <th>3</th>\n",
       "      <td>768521</td>\n",
       "      <td>Fadzisai</td>\n",
       "      <td>English</td>\n",
       "      <td>Fadzisai is a 30-year-old businesswoman from t...</td>\n",
       "      <td>Fadzisai is a 30-year-old businesswoman from t...</td>\n",
       "      <td>500.0</td>\n",
       "      <td>500.0</td>\n",
       "      <td>funded</td>\n",
       "      <td>1692199.0</td>\n",
       "      <td>NaN</td>\n",
       "      <td>...</td>\n",
       "      <td>8.0</td>\n",
       "      <td>20</td>\n",
       "      <td>2</td>\n",
       "      <td>1</td>\n",
       "      <td>user_favorite</td>\n",
       "      <td>Fadzisai</td>\n",
       "      <td>female</td>\n",
       "      <td>true</td>\n",
       "      <td>monthly</td>\n",
       "      <td>field_partner</td>\n",
       "    </tr>\n",
       "    <tr>\n",
       "      <th>4</th>\n",
       "      <td>90984</td>\n",
       "      <td>Luisa</td>\n",
       "      <td>Spanish</td>\n",
       "      <td>Luisa tiene 49 años, vive con su esposo en su ...</td>\n",
       "      <td>Luisa is 49 years old and lives with her husba...</td>\n",
       "      <td>925.0</td>\n",
       "      <td>925.0</td>\n",
       "      <td>funded</td>\n",
       "      <td>276468.0</td>\n",
       "      <td>NaN</td>\n",
       "      <td>...</td>\n",
       "      <td>11.0</td>\n",
       "      <td>29</td>\n",
       "      <td>4</td>\n",
       "      <td>2</td>\n",
       "      <td>NaN</td>\n",
       "      <td>Luisa</td>\n",
       "      <td>female</td>\n",
       "      <td>true</td>\n",
       "      <td>bullet</td>\n",
       "      <td>field_partner</td>\n",
       "    </tr>\n",
       "  </tbody>\n",
       "</table>\n",
       "<p>5 rows × 34 columns</p>\n",
       "</div>"
      ],
      "text/plain": [
       "   LOAN_ID  LOAN_NAME ORIGINAL_LANGUAGE  \\\n",
       "0  1057058     \\tLucy           English   \n",
       "1   509472    Madosho           English   \n",
       "2   344324  Marcelina           English   \n",
       "3   768521   Fadzisai           English   \n",
       "4    90984      Luisa           Spanish   \n",
       "\n",
       "                                         DESCRIPTION  \\\n",
       "0  Lucy is a married woman and has been blessed w...   \n",
       "1  Madosho is a very responsible man who values h...   \n",
       "2  Marcelina is married with 2 child. She is a ve...   \n",
       "3  Fadzisai is a 30-year-old businesswoman from t...   \n",
       "4  Luisa tiene 49 años, vive con su esposo en su ...   \n",
       "\n",
       "                              DESCRIPTION_TRANSLATED  FUNDED_AMOUNT  \\\n",
       "0  Lucy is a married woman and has been blessed w...          300.0   \n",
       "1                                                NaN          300.0   \n",
       "2                                                NaN          475.0   \n",
       "3  Fadzisai is a 30-year-old businesswoman from t...          500.0   \n",
       "4  Luisa is 49 years old and lives with her husba...          925.0   \n",
       "\n",
       "   LOAN_AMOUNT  STATUS   IMAGE_ID  VIDEO_ID  ... LENDER_TERM  \\\n",
       "0        300.0  funded  2157387.0       NaN  ...        14.0   \n",
       "1        300.0  funded   942435.0       NaN  ...        14.0   \n",
       "2        475.0  funded   886916.0       NaN  ...        13.0   \n",
       "3        500.0  funded  1692199.0       NaN  ...         8.0   \n",
       "4        925.0  funded   276468.0       NaN  ...        11.0   \n",
       "\n",
       "  NUM_LENDERS_TOTAL NUM_JOURNAL_ENTRIES NUM_BULK_ENTRIES  \\\n",
       "0                11                   1                1   \n",
       "1                 6                   3                2   \n",
       "2                13                   2                1   \n",
       "3                20                   2                1   \n",
       "4                29                   4                2   \n",
       "\n",
       "                                                TAGS BORROWER_NAMES  \\\n",
       "0  #Fabrics, #Parent, #Woman-Owned Business, #Sch...         \\tLucy   \n",
       "1                                                NaN        Madosho   \n",
       "2                                                NaN      Marcelina   \n",
       "3                                      user_favorite       Fadzisai   \n",
       "4                                                NaN          Luisa   \n",
       "\n",
       "  BORROWER_GENDERS  BORROWER_PICTURED REPAYMENT_INTERVAL  DISTRIBUTION_MODEL  \n",
       "0           female               true            monthly       field_partner  \n",
       "1             male               true            monthly       field_partner  \n",
       "2           female               true            monthly       field_partner  \n",
       "3           female               true            monthly       field_partner  \n",
       "4           female               true             bullet       field_partner  \n",
       "\n",
       "[5 rows x 34 columns]"
      ]
     },
     "execution_count": 9,
     "metadata": {},
     "output_type": "execute_result"
    }
   ],
   "source": [
    "loan.drop(index = loan[loan['STATUS'] == 'fundRaising'].index, inplace = True)\n",
    "loan.head()\n",
    "loan['STATUS'].replace('expired', 'notfunded', inplace = True)\n",
    "loan['STATUS'].replace('refunded', 'notfunded', inplace = True)"
   ]
  },
  {
   "cell_type": "code",
   "execution_count": 10,
   "metadata": {},
   "outputs": [
    {
     "data": {
      "text/plain": [
       "funded       2076778\n",
       "notfunded     102746\n",
       "Name: STATUS, dtype: int64"
      ]
     },
     "execution_count": 10,
     "metadata": {},
     "output_type": "execute_result"
    }
   ],
   "source": [
    "loan['STATUS'].value_counts()"
   ]
  },
  {
   "cell_type": "markdown",
   "metadata": {},
   "source": [
    "7. Examine the variable 'LOAN_AMOUNT'. <br>\n",
    "1) Check the distribution. What is the value of outliers if we use 3*IQR to define? <br>\n",
    "2) Remove the outliers. <br>\n",
    "3) Create a new variable by taking log of this variable."
   ]
  },
  {
   "cell_type": "code",
   "execution_count": 11,
   "metadata": {},
   "outputs": [
    {
     "data": {
      "text/html": [
       "<div>\n",
       "<style scoped>\n",
       "    .dataframe tbody tr th:only-of-type {\n",
       "        vertical-align: middle;\n",
       "    }\n",
       "\n",
       "    .dataframe tbody tr th {\n",
       "        vertical-align: top;\n",
       "    }\n",
       "\n",
       "    .dataframe thead th {\n",
       "        text-align: right;\n",
       "    }\n",
       "</style>\n",
       "<table border=\"1\" class=\"dataframe\">\n",
       "  <thead>\n",
       "    <tr style=\"text-align: right;\">\n",
       "      <th></th>\n",
       "      <th>LOAN_AMOUNT</th>\n",
       "    </tr>\n",
       "  </thead>\n",
       "  <tbody>\n",
       "    <tr>\n",
       "      <th>count</th>\n",
       "      <td>2.179524e+06</td>\n",
       "    </tr>\n",
       "    <tr>\n",
       "      <th>mean</th>\n",
       "      <td>8.112930e+02</td>\n",
       "    </tr>\n",
       "    <tr>\n",
       "      <th>std</th>\n",
       "      <td>1.671390e+03</td>\n",
       "    </tr>\n",
       "    <tr>\n",
       "      <th>min</th>\n",
       "      <td>2.500000e+01</td>\n",
       "    </tr>\n",
       "    <tr>\n",
       "      <th>25%</th>\n",
       "      <td>2.750000e+02</td>\n",
       "    </tr>\n",
       "    <tr>\n",
       "      <th>50%</th>\n",
       "      <td>5.000000e+02</td>\n",
       "    </tr>\n",
       "    <tr>\n",
       "      <th>75%</th>\n",
       "      <td>9.500000e+02</td>\n",
       "    </tr>\n",
       "    <tr>\n",
       "      <th>max</th>\n",
       "      <td>5.000000e+05</td>\n",
       "    </tr>\n",
       "  </tbody>\n",
       "</table>\n",
       "</div>"
      ],
      "text/plain": [
       "        LOAN_AMOUNT\n",
       "count  2.179524e+06\n",
       "mean   8.112930e+02\n",
       "std    1.671390e+03\n",
       "min    2.500000e+01\n",
       "25%    2.750000e+02\n",
       "50%    5.000000e+02\n",
       "75%    9.500000e+02\n",
       "max    5.000000e+05"
      ]
     },
     "execution_count": 11,
     "metadata": {},
     "output_type": "execute_result"
    },
    {
     "data": {
      "text/plain": [
       "275.0"
      ]
     },
     "execution_count": 11,
     "metadata": {},
     "output_type": "execute_result"
    },
    {
     "data": {
      "text/plain": [
       "950.0"
      ]
     },
     "execution_count": 11,
     "metadata": {},
     "output_type": "execute_result"
    }
   ],
   "source": [
    "loan[['LOAN_AMOUNT']].describe()\n",
    "loan['LOAN_AMOUNT'].quantile(0.25)\n",
    "loan['LOAN_AMOUNT'].quantile(0.75)\n",
    "Q1 = loan['LOAN_AMOUNT'].quantile(0.25)\n",
    "Q3 = loan['LOAN_AMOUNT'].quantile(0.75)\n",
    "IQR = Q3 - Q1\n",
    "lower_limit = Q1 - 3 * IQR\n",
    "upper_limit = Q3 + 3 * IQR\n"
   ]
  },
  {
   "cell_type": "code",
   "execution_count": 12,
   "metadata": {},
   "outputs": [
    {
     "data": {
      "text/plain": [
       "20         3275.0\n",
       "41         3450.0\n",
       "62         3000.0\n",
       "71         3225.0\n",
       "96         3000.0\n",
       "            ...  \n",
       "2185119    5000.0\n",
       "2185194    5000.0\n",
       "2185217    4575.0\n",
       "2185219    4100.0\n",
       "2185237    5000.0\n",
       "Name: LOAN_AMOUNT, Length: 88745, dtype: float64"
      ]
     },
     "execution_count": 12,
     "metadata": {},
     "output_type": "execute_result"
    },
    {
     "data": {
      "text/plain": [
       "0          300.0\n",
       "1          300.0\n",
       "2          475.0\n",
       "3          500.0\n",
       "4          925.0\n",
       "           ...  \n",
       "2185235    350.0\n",
       "2185236    600.0\n",
       "2185238    250.0\n",
       "2185239    300.0\n",
       "2185240    450.0\n",
       "Name: LOAN_AMOUNT, Length: 2090779, dtype: float64"
      ]
     },
     "execution_count": 12,
     "metadata": {},
     "output_type": "execute_result"
    }
   ],
   "source": [
    "outliers_15_low = (loan['LOAN_AMOUNT'] < lower_limit)\n",
    "outliers_15_up = (loan['LOAN_AMOUNT'] > upper_limit)\n",
    "loan['LOAN_AMOUNT'][(outliers_15_low | outliers_15_up)]\n",
    "loan['LOAN_AMOUNT'][~(outliers_15_low | outliers_15_up)]\n",
    "loan = loan[~(outliers_15_low | outliers_15_up)]\n",
    "loan['logAMount'] = np.log(loan['LOAN_AMOUNT'])"
   ]
  },
  {
   "cell_type": "code",
   "execution_count": 13,
   "metadata": {},
   "outputs": [
    {
     "data": {
      "text/plain": [
       "0    5.703782\n",
       "1    5.703782\n",
       "2    6.163315\n",
       "3    6.214608\n",
       "4    6.829794\n",
       "Name: logAMount, dtype: float64"
      ]
     },
     "execution_count": 13,
     "metadata": {},
     "output_type": "execute_result"
    }
   ],
   "source": [
    "loan['logAMount'].head()"
   ]
  },
  {
   "cell_type": "markdown",
   "metadata": {},
   "source": [
    "8. Observe the missing value results from Q3. What is the outcome for variables 'COUNTRY_CODE' and 'COUNTRY_NAME'. What would you do? Do it."
   ]
  },
  {
   "cell_type": "code",
   "execution_count": 14,
   "metadata": {},
   "outputs": [
    {
     "data": {
      "text/plain": [
       "1"
      ]
     },
     "execution_count": 14,
     "metadata": {},
     "output_type": "execute_result"
    }
   ],
   "source": [
    "loan['COUNTRY_CODE'].isnull().sum()"
   ]
  },
  {
   "cell_type": "code",
   "execution_count": 15,
   "metadata": {},
   "outputs": [
    {
     "data": {
      "text/plain": [
       "0"
      ]
     },
     "execution_count": 15,
     "metadata": {},
     "output_type": "execute_result"
    }
   ],
   "source": [
    "loan['COUNTRY_NAME'].isnull().sum()"
   ]
  },
  {
   "cell_type": "code",
   "execution_count": 16,
   "metadata": {},
   "outputs": [],
   "source": [
    "loan.drop(columns = 'COUNTRY_CODE',inplace = True)"
   ]
  },
  {
   "cell_type": "markdown",
   "metadata": {},
   "source": [
    "9. Find the number of missing values in variables 'IMAGE_ID', 'VIDEO_ID' and 'LOAN_USE'. What would you do? Do it."
   ]
  },
  {
   "cell_type": "code",
   "execution_count": 17,
   "metadata": {},
   "outputs": [
    {
     "data": {
      "text/plain": [
       "44295"
      ]
     },
     "execution_count": 17,
     "metadata": {},
     "output_type": "execute_result"
    }
   ],
   "source": [
    "loan['IMAGE_ID'].isnull().sum()"
   ]
  },
  {
   "cell_type": "code",
   "execution_count": 18,
   "metadata": {},
   "outputs": [
    {
     "data": {
      "text/plain": [
       "2090323"
      ]
     },
     "execution_count": 18,
     "metadata": {},
     "output_type": "execute_result"
    }
   ],
   "source": [
    "loan['VIDEO_ID'].isnull().sum()"
   ]
  },
  {
   "cell_type": "code",
   "execution_count": 19,
   "metadata": {},
   "outputs": [
    {
     "data": {
      "text/plain": [
       "44312"
      ]
     },
     "execution_count": 19,
     "metadata": {},
     "output_type": "execute_result"
    }
   ],
   "source": [
    "loan['LOAN_USE'].isnull().sum()"
   ]
  },
  {
   "cell_type": "code",
   "execution_count": 20,
   "metadata": {
    "scrolled": false
   },
   "outputs": [
    {
     "data": {
      "text/plain": [
       "LOAN_ID                                 0\n",
       "LOAN_NAME                           48352\n",
       "ORIGINAL_LANGUAGE                   44295\n",
       "DESCRIPTION                         44367\n",
       "DESCRIPTION_TRANSLATED             442266\n",
       "FUNDED_AMOUNT                           0\n",
       "LOAN_AMOUNT                             0\n",
       "STATUS                                  0\n",
       "IMAGE_ID                            44295\n",
       "ACTIVITY_NAME                           0\n",
       "SECTOR_NAME                             0\n",
       "COUNTRY_NAME                            0\n",
       "TOWN_NAME                          163565\n",
       "CURRENCY_POLICY                         0\n",
       "CURRENCY_EXCHANGE_COVERAGE_RATE    495274\n",
       "CURRENCY                                0\n",
       "PARTNER_ID                              0\n",
       "POSTED_TIME                             0\n",
       "PLANNED_EXPIRATION_TIME            362341\n",
       "DISBURSE_TIME                        1583\n",
       "RAISED_TIME                         87152\n",
       "LENDER_TERM                            24\n",
       "NUM_LENDERS_TOTAL                       0\n",
       "NUM_JOURNAL_ENTRIES                     0\n",
       "NUM_BULK_ENTRIES                        0\n",
       "TAGS                               946397\n",
       "BORROWER_NAMES                      48352\n",
       "BORROWER_GENDERS                    44295\n",
       "BORROWER_PICTURED                   44295\n",
       "REPAYMENT_INTERVAL                      0\n",
       "DISTRIBUTION_MODEL                      0\n",
       "logAMount                               0\n",
       "dtype: int64"
      ]
     },
     "execution_count": 20,
     "metadata": {},
     "output_type": "execute_result"
    }
   ],
   "source": [
    "loan.drop(columns = 'LOAN_USE', inplace = True)\n",
    "loan.drop(columns = 'VIDEO_ID', inplace = True)\n",
    "loan.isnull().sum()"
   ]
  },
  {
   "cell_type": "code",
   "execution_count": 20,
   "metadata": {},
   "outputs": [],
   "source": [
    "loan['IMAGE_ID'] = loan['IMAGE_ID'].apply(lambda x: 1 if x > 0 else 0)"
   ]
  },
  {
   "cell_type": "markdown",
   "metadata": {},
   "source": [
    "10. Create a new variable 'TIME_LENGTH' that is the difference between 'POSTED_TIME' and 'RAISED_TIME'."
   ]
  },
  {
   "cell_type": "code",
   "execution_count": 36,
   "metadata": {},
   "outputs": [],
   "source": [
    "\n",
    "loan['TIME_LENGTH'] = pd.to_datetime(loan['POSTED_TIME']) - pd.to_datetime(loan['RAISED_TIME']) \n"
   ]
  },
  {
   "cell_type": "code",
   "execution_count": 37,
   "metadata": {},
   "outputs": [
    {
     "data": {
      "text/html": [
       "<div>\n",
       "<style scoped>\n",
       "    .dataframe tbody tr th:only-of-type {\n",
       "        vertical-align: middle;\n",
       "    }\n",
       "\n",
       "    .dataframe tbody tr th {\n",
       "        vertical-align: top;\n",
       "    }\n",
       "\n",
       "    .dataframe thead th {\n",
       "        text-align: right;\n",
       "    }\n",
       "</style>\n",
       "<table border=\"1\" class=\"dataframe\">\n",
       "  <thead>\n",
       "    <tr style=\"text-align: right;\">\n",
       "      <th></th>\n",
       "      <th>TIME_LENGTH</th>\n",
       "    </tr>\n",
       "  </thead>\n",
       "  <tbody>\n",
       "    <tr>\n",
       "      <th>0</th>\n",
       "      <td>-6 days +02:04:45</td>\n",
       "    </tr>\n",
       "    <tr>\n",
       "      <th>1</th>\n",
       "      <td>-2 days +16:05:25</td>\n",
       "    </tr>\n",
       "    <tr>\n",
       "      <th>2</th>\n",
       "      <td>-23 days +05:45:33</td>\n",
       "    </tr>\n",
       "    <tr>\n",
       "      <th>3</th>\n",
       "      <td>-3 days +18:53:14</td>\n",
       "    </tr>\n",
       "    <tr>\n",
       "      <th>4</th>\n",
       "      <td>-3 days +17:08:27</td>\n",
       "    </tr>\n",
       "  </tbody>\n",
       "</table>\n",
       "</div>"
      ],
      "text/plain": [
       "         TIME_LENGTH\n",
       "0  -6 days +02:04:45\n",
       "1  -2 days +16:05:25\n",
       "2 -23 days +05:45:33\n",
       "3  -3 days +18:53:14\n",
       "4  -3 days +17:08:27"
      ]
     },
     "execution_count": 37,
     "metadata": {},
     "output_type": "execute_result"
    }
   ],
   "source": [
    "loan[['TIME_LENGTH']].head()"
   ]
  },
  {
   "cell_type": "markdown",
   "metadata": {},
   "source": [
    "11. Find the different between 'POSTED_TIME' and 'DISBURSE_TIME'. Create a new variable 'PREDISBURSE' if the 'DISBURSE_TIME' is before 'POSTED_TIME'."
   ]
  },
  {
   "cell_type": "code",
   "execution_count": 38,
   "metadata": {},
   "outputs": [],
   "source": [
    "loan['POSTED_TIME'] = pd.to_datetime(loan['POSTED_TIME'])\n",
    "loan['DISBURSE_TIME'] = pd.to_datetime(loan['DISBURSE_TIME'])\n",
    "\n",
    "\n",
    "loan['DIFFERENCE'] = loan['DISBURSE_TIME'] < loan['POSTED_TIME']"
   ]
  },
  {
   "cell_type": "code",
   "execution_count": 39,
   "metadata": {},
   "outputs": [
    {
     "data": {
      "text/plain": [
       "1    1924121\n",
       "0     166658\n",
       "Name: PREDISBURSE, dtype: int64"
      ]
     },
     "execution_count": 39,
     "metadata": {},
     "output_type": "execute_result"
    },
    {
     "data": {
      "text/plain": [
       "array([1, 0])"
      ]
     },
     "execution_count": 39,
     "metadata": {},
     "output_type": "execute_result"
    }
   ],
   "source": [
    "loan ['PREDISBURSE'] =np.where(loan['DIFFERENCE'] == False, 0,1)\n",
    "loan ['PREDISBURSE'].value_counts()\n",
    "loan ['PREDISBURSE'].unique()"
   ]
  },
  {
   "cell_type": "markdown",
   "metadata": {},
   "source": [
    "12. Exame variable 'CURRENCY_EXCHANGE_COVERAGE_RATE'. How many unique values for this variable? How many missing?<br>\n",
    "Before we rush to replace missing values with mode, we ask the question: is the missing value actually missing or is it something else? We then read the policies on Kiva about exchange coverage. For instance, a lender gives 25 in US dollars and it changes to 250 in another currency. But when the money is repaid at 250 in the other currency, it only exchanges to 20 US dollars. The CURRENCY_EXCHANGE_COVERAGE_RATE measures how much such loss will be covered by the field partners. Some would cover 10% or 20%. So, it is more likely that the missing values indicating the loan does not have any coverage. So, it's more likely means 0.<br>\n",
    "Replace the missing value with 0."
   ]
  },
  {
   "cell_type": "code",
   "execution_count": 40,
   "metadata": {},
   "outputs": [
    {
     "name": "stdout",
     "output_type": "stream",
     "text": [
      "4\n",
      "[0.1 0.2 '0' 0.0]\n",
      "0\n"
     ]
    }
   ],
   "source": [
    "\n",
    "print(len(loan['CURRENCY_EXCHANGE_COVERAGE_RATE'].unique()))\n",
    "print(loan['CURRENCY_EXCHANGE_COVERAGE_RATE'].unique())\n",
    "print(loan['CURRENCY_EXCHANGE_COVERAGE_RATE'].isnull().sum())"
   ]
  },
  {
   "cell_type": "code",
   "execution_count": 41,
   "metadata": {},
   "outputs": [],
   "source": [
    "loan['CURRENCY_EXCHANGE_COVERAGE_RATE'].fillna('0', inplace = True)"
   ]
  },
  {
   "cell_type": "code",
   "execution_count": 42,
   "metadata": {},
   "outputs": [
    {
     "data": {
      "text/plain": [
       "0    0.1\n",
       "1    0.1\n",
       "2    0.2\n",
       "3    0.1\n",
       "4      0\n",
       "Name: CURRENCY_EXCHANGE_COVERAGE_RATE, dtype: object"
      ]
     },
     "execution_count": 42,
     "metadata": {},
     "output_type": "execute_result"
    }
   ],
   "source": [
    "loan['CURRENCY_EXCHANGE_COVERAGE_RATE'].head()"
   ]
  },
  {
   "cell_type": "markdown",
   "metadata": {},
   "source": [
    "### Assignment 10&11 starts here.\n",
    "Q13-26 6 points each; Q27: 10 points; Extra question: 10 points."
   ]
  },
  {
   "cell_type": "markdown",
   "metadata": {},
   "source": [
    "13. Take a look at the data after we have done the 12 steps above. We will continue the preparation. \n",
    "Check the unique values of 'ACTIVITY_NAME' and 'SECTOR_NAME'. You may notice that there are many more activities than sectors and Sector is higher-level categorization of loans. We can choose one of them. To keep the results easier to read. We can keep sector name.\n",
    "'LOAN_NAME' seems irrelevant to whether a loan is funded. We have not learned how to process 'DESCRIPTION' and 'DESCRIPTION_TRANSLATED'. 'FUNDED_AMOUNT' is the amount that actually raised at the end. Most times it is the same as 'LOAN_AMOUNT'.  After doing similar analysis with every variable, we decide to keep only the following variables in the final analysis: <br>\n",
    "LOAN_ID<br>\n",
    "ORIGINAL_LANGUAGE<br>\n",
    "LOAN_AMOUNT (and the logAmount variable we created)<br>\n",
    "STATUS<br>\n",
    "IMAGE_ID (the one we coded to 0/1)<br>\n",
    "SECTOR_NAME                              \n",
    "COUNTRY_NAME                             \n",
    "CURRENCY_POLICY                          \n",
    "CURRENCY_EXCHANGE_COVERAGE_RATE (the one we tranfromed)<br>\n",
    "POSTED_TIME  (and the TIME_LENGTH we created)<br>\n",
    "DISBURSE_TIME (and the PREDISBURSE we created)<br>\n",
    "RAISED_TIME                        \n",
    "LENDER_TERM                   \n",
    "NUM_JOURNAL_ENTRIES  \n",
    "NUM_BULK_ENTRIES     \n",
    "REPAYMENT_INTERVAL  \n",
    "DISTRIBUTION_MODEL "
   ]
  },
  {
   "cell_type": "code",
   "execution_count": 43,
   "metadata": {},
   "outputs": [
    {
     "data": {
      "text/plain": [
       "array(['Fish Selling', 'General Store', 'Motorcycle Repair',\n",
       "       'Food Production/Sales', 'Bricks', 'Retail', 'Knitting', 'Farming',\n",
       "       'Personal Housing Expenses', 'Food Stall', 'Home Appliances',\n",
       "       'Pigs', 'Clothing Sales', 'Grocery Store', 'Beverages',\n",
       "       'Farm Supplies', 'Personal Expenses', 'Fruits & Vegetables',\n",
       "       'Food Market', 'Liquor Store / Off-License', 'Charcoal Sales',\n",
       "       'Bakery', 'Manufacturing', 'Primary/secondary school costs',\n",
       "       'Taxi', 'Cattle', 'Higher education costs', 'Fishing',\n",
       "       'Animal Sales', 'Livestock', 'Cereals', 'Motorcycle Transport',\n",
       "       'Sewing', 'Clothing', 'Internet Cafe', 'Poultry',\n",
       "       'Personal Products Sales', 'Beauty Salon', 'Education provider',\n",
       "       'Furniture Making', 'Used Clothing', 'Agriculture',\n",
       "       'Fuel/Firewood', 'Food', 'Shoe Sales', 'Home Products Sales',\n",
       "       'Consumer Goods', 'Computers', 'Office Supplies', 'Rickshaw',\n",
       "       'Vehicle', 'Tailoring', 'Transportation',\n",
       "       'Personal Medical Expenses', 'Home Energy', 'Embroidery',\n",
       "       'Auto Repair', 'Cosmetics Sales', 'Aquaculture', 'Computer',\n",
       "       'Goods Distribution', 'Butcher Shop', 'Weaving', 'Crafts', 'Dairy',\n",
       "       'Phone Use Sales', 'Decorations Sales', 'Pharmacy', 'Adult Care',\n",
       "       'Property', 'Services', 'Hotel', 'Florist',\n",
       "       'Cloth & Dressmaking Supplies', 'Mobile Phones', 'Restaurant',\n",
       "       'Health', 'Perfumes', 'Electronics Sales', 'Milk Sales',\n",
       "       'Recycled Materials', 'Timber Sales', 'Construction Supplies',\n",
       "       'Printing', 'Spare Parts', 'Cement', 'Party Supplies', 'Cafe',\n",
       "       'Construction', 'Veterinary Sales', 'Electrician',\n",
       "       'Souvenir Sales', 'Used Shoes', 'Plastics Sales', 'Cheese Making',\n",
       "       'Photography', 'Flowers', 'Cobbler', 'Jewelry',\n",
       "       'Secretarial Services', 'Blacksmith', 'Carpentry', 'Recycling',\n",
       "       'Games', 'Barber Shop', 'Natural Medicines', 'Child Care',\n",
       "       'Vehicle Repairs', 'Paper Sales', 'Catering', 'Bicycle Repair',\n",
       "       'Hardware', 'Phone Accessories', 'Electronics Repair',\n",
       "       'Music Discs & Tapes', 'Metal Shop', 'Traveling Sales', 'Pub',\n",
       "       'Renewable Energy Products', 'Dental', 'Electrical Goods',\n",
       "       'Bookstore', 'Textiles', 'Upholstery', 'Mobile Transactions',\n",
       "       'Land Rental', 'Tourism', 'Arts', 'Water Distribution',\n",
       "       'Wholesale', 'Movie Tapes & DVDs', 'Sporting Good Sales',\n",
       "       'Wedding Expenses', 'Laundry', 'Beekeeping', 'Energy',\n",
       "       'Machinery Rental', 'Entertainment', 'Waste Management',\n",
       "       'Medical Clinic', 'Religious Articles', 'Event Planning',\n",
       "       'Landscaping / Gardening', 'Quarrying', 'Musical Performance',\n",
       "       'Bicycle Sales', 'Funerals', 'Cleaning Services', 'Balut-Making',\n",
       "       'Utilities', 'Celebrations', 'Machine Shop', 'Patchwork',\n",
       "       'Well digging', 'Phone Repair', 'Personal Care Products',\n",
       "       'Air Conditioning', 'Musical Instruments', 'Communications',\n",
       "       'Call Center', 'Technology', 'Bookbinding', 'Film'], dtype=object)"
      ]
     },
     "execution_count": 43,
     "metadata": {},
     "output_type": "execute_result"
    },
    {
     "data": {
      "text/plain": [
       "array(['Food', 'Retail', 'Services', 'Construction', 'Arts',\n",
       "       'Agriculture', 'Housing', 'Personal Use', 'Clothing',\n",
       "       'Manufacturing', 'Education', 'Transportation', 'Health',\n",
       "       'Wholesale', 'Entertainment'], dtype=object)"
      ]
     },
     "execution_count": 43,
     "metadata": {},
     "output_type": "execute_result"
    }
   ],
   "source": [
    "loan['ACTIVITY_NAME'].unique()\n",
    "loan['SECTOR_NAME'].unique()"
   ]
  },
  {
   "cell_type": "markdown",
   "metadata": {},
   "source": [
    "Create a copy of the dataset that only contains the variables listed above. You may use the list of variable names to slice the dataframe we have from Step 12 in Assignment 8&9."
   ]
  },
  {
   "cell_type": "code",
   "execution_count": 44,
   "metadata": {
    "scrolled": false
   },
   "outputs": [],
   "source": [
    "newLoans= loan[['LOAN_ID',\n",
    "'ORIGINAL_LANGUAGE',\n",
    "'LOAN_AMOUNT', 'logAMount',\n",
    "'IMAGE_ID',\n",
    "'SECTOR_NAME',\n",
    "'COUNTRY_NAME',\n",
    "'CURRENCY_POLICY',\n",
    "'CURRENCY_EXCHANGE_COVERAGE_RATE',\n",
    "'POSTED_TIME', 'TIME_LENGTH',\n",
    "'DISBURSE_TIME', 'PREDISBURSE',\n",
    "'RAISED_TIME',\n",
    "'LENDER_TERM',\n",
    "'NUM_JOURNAL_ENTRIES',\n",
    "'NUM_BULK_ENTRIES',\n",
    "'REPAYMENT_INTERVAL',\n",
    "'DISTRIBUTION_MODEL', 'STATUS']]"
   ]
  },
  {
   "cell_type": "code",
   "execution_count": 52,
   "metadata": {},
   "outputs": [
    {
     "data": {
      "text/plain": [
       "LOAN_ID                                0\n",
       "ORIGINAL_LANGUAGE                  44295\n",
       "LOAN_AMOUNT                            0\n",
       "logAMount                              0\n",
       "IMAGE_ID                               0\n",
       "SECTOR_NAME                            0\n",
       "COUNTRY_NAME                           0\n",
       "CURRENCY_POLICY                        0\n",
       "CURRENCY_EXCHANGE_COVERAGE_RATE        0\n",
       "POSTED_TIME                            0\n",
       "TIME_LENGTH                        87152\n",
       "DISBURSE_TIME                       1583\n",
       "PREDISBURSE                            0\n",
       "RAISED_TIME                        87152\n",
       "LENDER_TERM                           24\n",
       "NUM_JOURNAL_ENTRIES                    0\n",
       "NUM_BULK_ENTRIES                       0\n",
       "REPAYMENT_INTERVAL                     0\n",
       "DISTRIBUTION_MODEL                     0\n",
       "STATUS                                 0\n",
       "Year                                   0\n",
       "dtype: int64"
      ]
     },
     "execution_count": 52,
     "metadata": {},
     "output_type": "execute_result"
    }
   ],
   "source": [
    "newLoans.isnull().sum()"
   ]
  },
  {
   "cell_type": "markdown",
   "metadata": {},
   "source": [
    "14. Next we start to explore the data. You need to import matplotlib. First, make two histograms for 'LOAN_AMOUNT' and 'logAMount'. How are they different?"
   ]
  },
  {
   "cell_type": "code",
   "execution_count": 53,
   "metadata": {},
   "outputs": [],
   "source": [
    "import matplotlib.pyplot as plt\n"
   ]
  },
  {
   "cell_type": "code",
   "execution_count": 54,
   "metadata": {},
   "outputs": [
    {
     "data": {
      "text/plain": [
       "(array([686105., 627837., 294390., 240225.,  78294.,  64098.,  40441.,\n",
       "         22335.,  21220.,  15834.]),\n",
       " array([  25.,  320.,  615.,  910., 1205., 1500., 1795., 2090., 2385.,\n",
       "        2680., 2975.]),\n",
       " <BarContainer object of 10 artists>)"
      ]
     },
     "execution_count": 54,
     "metadata": {},
     "output_type": "execute_result"
    },
    {
     "data": {
      "image/png": "[encoded data removed]",
      "text/plain": [
       "<Figure size 432x288 with 1 Axes>"
      ]
     },
     "metadata": {
      "needs_background": "light"
     },
     "output_type": "display_data"
    }
   ],
   "source": [
    "plt.hist(newLoans['LOAN_AMOUNT'])\n",
    "plt.show()"
   ]
  },
  {
   "cell_type": "code",
   "execution_count": 55,
   "metadata": {},
   "outputs": [
    {
     "data": {
      "text/plain": [
       "(array([  1910.,   9330.,  65813., 135363., 324124., 438481., 458969.,\n",
       "        365384., 197221.,  94184.]),\n",
       " array([3.21887582, 3.69678817, 4.17470052, 4.65261287, 5.13052522,\n",
       "        5.60843757, 6.08634992, 6.56426227, 7.04217462, 7.52008697,\n",
       "        7.99799932]),\n",
       " <BarContainer object of 10 artists>)"
      ]
     },
     "execution_count": 55,
     "metadata": {},
     "output_type": "execute_result"
    },
    {
     "data": {
      "image/png": "[encoded data removed]",
      "text/plain": [
       "<Figure size 432x288 with 1 Axes>"
      ]
     },
     "metadata": {
      "needs_background": "light"
     },
     "output_type": "display_data"
    }
   ],
   "source": [
    "plt.hist(newLoans['logAMount'])\n",
    "plt.show()"
   ]
  },
  {
   "cell_type": "markdown",
   "metadata": {},
   "source": [
    "15. What is the total loan amount in each sector? Create a bar chart to demonstrate."
   ]
  },
  {
   "cell_type": "code",
   "execution_count": 56,
   "metadata": {},
   "outputs": [
    {
     "data": {
      "text/plain": [
       "<AxesSubplot:xlabel='SECTOR_NAME'>"
      ]
     },
     "execution_count": 56,
     "metadata": {},
     "output_type": "execute_result"
    },
    {
     "data": {
      "image/png": "[encoded data removed]",
      "text/plain": [
       "<Figure size 432x288 with 1 Axes>"
      ]
     },
     "metadata": {
      "needs_background": "light"
     },
     "output_type": "display_data"
    }
   ],
   "source": [
    "amountSector = newLoans.groupby('SECTOR_NAME')['LOAN_AMOUNT'].sum()\n",
    "amountSector.plot(kind = 'bar')"
   ]
  },
  {
   "cell_type": "markdown",
   "metadata": {},
   "source": [
    "16. What is the total number of loans in each country? Create a bar chart to demonstrate."
   ]
  },
  {
   "cell_type": "code",
   "execution_count": 57,
   "metadata": {},
   "outputs": [
    {
     "data": {
      "text/plain": [
       "<AxesSubplot:xlabel='COUNTRY_NAME'>"
      ]
     },
     "execution_count": 57,
     "metadata": {},
     "output_type": "execute_result"
    },
    {
     "data": {
      "image/png": "[encoded data removed]",
      "text/plain": [
       "<Figure size 1080x864 with 1 Axes>"
      ]
     },
     "metadata": {
      "needs_background": "light"
     },
     "output_type": "display_data"
    }
   ],
   "source": [
    "countryLoans = newLoans.groupby('COUNTRY_NAME')['LOAN_ID'].count()\n",
    "countryLoans.plot(kind = 'bar', figsize = (15,12))"
   ]
  },
  {
   "cell_type": "markdown",
   "metadata": {},
   "source": [
    "17. Change the POSTED_TIME to DateTimeIndex and create a new variable 'Year' using the year of POSTED_TIME. What is the total number of loans in each year? Create a line graph to demonstrate."
   ]
  },
  {
   "cell_type": "code",
   "execution_count": 58,
   "metadata": {
    "scrolled": true
   },
   "outputs": [
    {
     "name": "stderr",
     "output_type": "stream",
     "text": [
      "<ipython-input-58-2ca8fc3f6a03>:1: SettingWithCopyWarning: \n",
      "A value is trying to be set on a copy of a slice from a DataFrame.\n",
      "Try using .loc[row_indexer,col_indexer] = value instead\n",
      "\n",
      "See the caveats in the documentation: https://pandas.pydata.org/pandas-docs/stable/user_guide/indexing.html#returning-a-view-versus-a-copy\n",
      "  newLoans['Year'] = pd.DatetimeIndex(newLoans['POSTED_TIME']).year\n"
     ]
    }
   ],
   "source": [
    "newLoans['Year'] = pd.DatetimeIndex(newLoans['POSTED_TIME']).year"
   ]
  },
  {
   "cell_type": "code",
   "execution_count": 38,
   "metadata": {},
   "outputs": [
    {
     "data": {
      "text/plain": [
       "<AxesSubplot:xlabel='Year'>"
      ]
     },
     "execution_count": 38,
     "metadata": {},
     "output_type": "execute_result"
    },
    {
     "data": {
      "image/png": "[encoded data removed]",
      "text/plain": [
       "<Figure size 432x288 with 1 Axes>"
      ]
     },
     "metadata": {
      "needs_background": "light"
     },
     "output_type": "display_data"
    }
   ],
   "source": [
    "amountYear = newLoans.groupby('Year')['LOAN_ID'].count()\n",
    "amountYear.plot()"
   ]
  },
  {
   "cell_type": "markdown",
   "metadata": {},
   "source": [
    "18. Create a pivot table to show the average loan amount in each sector each year."
   ]
  },
  {
   "cell_type": "code",
   "execution_count": 39,
   "metadata": {},
   "outputs": [
    {
     "data": {
      "text/html": [
       "<div>\n",
       "<style scoped>\n",
       "    .dataframe tbody tr th:only-of-type {\n",
       "        vertical-align: middle;\n",
       "    }\n",
       "\n",
       "    .dataframe tbody tr th {\n",
       "        vertical-align: top;\n",
       "    }\n",
       "\n",
       "    .dataframe thead th {\n",
       "        text-align: right;\n",
       "    }\n",
       "</style>\n",
       "<table border=\"1\" class=\"dataframe\">\n",
       "  <thead>\n",
       "    <tr style=\"text-align: right;\">\n",
       "      <th>Year</th>\n",
       "      <th>2006</th>\n",
       "      <th>2007</th>\n",
       "      <th>2008</th>\n",
       "      <th>2009</th>\n",
       "      <th>2010</th>\n",
       "      <th>2011</th>\n",
       "      <th>2012</th>\n",
       "      <th>2013</th>\n",
       "      <th>2014</th>\n",
       "      <th>2015</th>\n",
       "      <th>2016</th>\n",
       "      <th>2017</th>\n",
       "      <th>2018</th>\n",
       "      <th>2019</th>\n",
       "      <th>2020</th>\n",
       "      <th>2021</th>\n",
       "    </tr>\n",
       "    <tr>\n",
       "      <th>SECTOR_NAME</th>\n",
       "      <th></th>\n",
       "      <th></th>\n",
       "      <th></th>\n",
       "      <th></th>\n",
       "      <th></th>\n",
       "      <th></th>\n",
       "      <th></th>\n",
       "      <th></th>\n",
       "      <th></th>\n",
       "      <th></th>\n",
       "      <th></th>\n",
       "      <th></th>\n",
       "      <th></th>\n",
       "      <th></th>\n",
       "      <th></th>\n",
       "      <th></th>\n",
       "    </tr>\n",
       "  </thead>\n",
       "  <tbody>\n",
       "    <tr>\n",
       "      <th>Agriculture</th>\n",
       "      <td>677.455919</td>\n",
       "      <td>657.880235</td>\n",
       "      <td>684.617722</td>\n",
       "      <td>623.594413</td>\n",
       "      <td>678.098313</td>\n",
       "      <td>721.580157</td>\n",
       "      <td>764.921505</td>\n",
       "      <td>784.610301</td>\n",
       "      <td>710.890633</td>\n",
       "      <td>692.998049</td>\n",
       "      <td>654.891644</td>\n",
       "      <td>634.365077</td>\n",
       "      <td>638.312252</td>\n",
       "      <td>641.168366</td>\n",
       "      <td>533.840443</td>\n",
       "      <td>513.903631</td>\n",
       "    </tr>\n",
       "    <tr>\n",
       "      <th>Arts</th>\n",
       "      <td>765.441176</td>\n",
       "      <td>556.600877</td>\n",
       "      <td>594.340278</td>\n",
       "      <td>602.074167</td>\n",
       "      <td>737.452420</td>\n",
       "      <td>745.825751</td>\n",
       "      <td>822.846524</td>\n",
       "      <td>708.797554</td>\n",
       "      <td>726.123110</td>\n",
       "      <td>673.768835</td>\n",
       "      <td>639.175187</td>\n",
       "      <td>568.633703</td>\n",
       "      <td>605.140598</td>\n",
       "      <td>723.251998</td>\n",
       "      <td>780.572560</td>\n",
       "      <td>799.155786</td>\n",
       "    </tr>\n",
       "    <tr>\n",
       "      <th>Clothing</th>\n",
       "      <td>622.483221</td>\n",
       "      <td>646.504950</td>\n",
       "      <td>682.180233</td>\n",
       "      <td>708.049691</td>\n",
       "      <td>810.285639</td>\n",
       "      <td>812.513982</td>\n",
       "      <td>806.195974</td>\n",
       "      <td>779.448352</td>\n",
       "      <td>727.256545</td>\n",
       "      <td>765.992578</td>\n",
       "      <td>773.964771</td>\n",
       "      <td>751.634396</td>\n",
       "      <td>707.910490</td>\n",
       "      <td>746.540881</td>\n",
       "      <td>683.967112</td>\n",
       "      <td>675.896511</td>\n",
       "    </tr>\n",
       "    <tr>\n",
       "      <th>Construction</th>\n",
       "      <td>784.405941</td>\n",
       "      <td>730.501618</td>\n",
       "      <td>723.112892</td>\n",
       "      <td>725.808538</td>\n",
       "      <td>751.904880</td>\n",
       "      <td>808.087460</td>\n",
       "      <td>816.363636</td>\n",
       "      <td>832.622774</td>\n",
       "      <td>798.184912</td>\n",
       "      <td>795.549417</td>\n",
       "      <td>831.099935</td>\n",
       "      <td>753.264418</td>\n",
       "      <td>755.033784</td>\n",
       "      <td>837.999460</td>\n",
       "      <td>826.621297</td>\n",
       "      <td>836.826698</td>\n",
       "    </tr>\n",
       "    <tr>\n",
       "      <th>Education</th>\n",
       "      <td>NaN</td>\n",
       "      <td>794.642857</td>\n",
       "      <td>725.274725</td>\n",
       "      <td>666.281139</td>\n",
       "      <td>674.962121</td>\n",
       "      <td>751.921182</td>\n",
       "      <td>860.717309</td>\n",
       "      <td>857.643714</td>\n",
       "      <td>797.358823</td>\n",
       "      <td>878.200633</td>\n",
       "      <td>834.667050</td>\n",
       "      <td>846.851251</td>\n",
       "      <td>800.955204</td>\n",
       "      <td>778.835596</td>\n",
       "      <td>660.697207</td>\n",
       "      <td>353.612646</td>\n",
       "    </tr>\n",
       "    <tr>\n",
       "      <th>Entertainment</th>\n",
       "      <td>603.571429</td>\n",
       "      <td>531.250000</td>\n",
       "      <td>681.770833</td>\n",
       "      <td>681.500000</td>\n",
       "      <td>636.285714</td>\n",
       "      <td>801.954733</td>\n",
       "      <td>762.500000</td>\n",
       "      <td>812.931034</td>\n",
       "      <td>859.566327</td>\n",
       "      <td>863.425926</td>\n",
       "      <td>883.210784</td>\n",
       "      <td>987.008734</td>\n",
       "      <td>879.015544</td>\n",
       "      <td>881.250000</td>\n",
       "      <td>890.476190</td>\n",
       "      <td>807.692308</td>\n",
       "    </tr>\n",
       "    <tr>\n",
       "      <th>Food</th>\n",
       "      <td>647.490157</td>\n",
       "      <td>595.012937</td>\n",
       "      <td>645.766043</td>\n",
       "      <td>594.631202</td>\n",
       "      <td>647.141493</td>\n",
       "      <td>642.240619</td>\n",
       "      <td>648.798015</td>\n",
       "      <td>643.258057</td>\n",
       "      <td>641.785714</td>\n",
       "      <td>610.653760</td>\n",
       "      <td>615.656124</td>\n",
       "      <td>591.633768</td>\n",
       "      <td>586.867919</td>\n",
       "      <td>614.770576</td>\n",
       "      <td>530.509988</td>\n",
       "      <td>531.230650</td>\n",
       "    </tr>\n",
       "    <tr>\n",
       "      <th>Health</th>\n",
       "      <td>809.722222</td>\n",
       "      <td>714.716312</td>\n",
       "      <td>768.494624</td>\n",
       "      <td>717.414530</td>\n",
       "      <td>764.544808</td>\n",
       "      <td>766.472393</td>\n",
       "      <td>789.650229</td>\n",
       "      <td>912.354167</td>\n",
       "      <td>950.224359</td>\n",
       "      <td>856.627517</td>\n",
       "      <td>832.403759</td>\n",
       "      <td>823.549853</td>\n",
       "      <td>853.683460</td>\n",
       "      <td>823.819041</td>\n",
       "      <td>695.913819</td>\n",
       "      <td>686.162894</td>\n",
       "    </tr>\n",
       "    <tr>\n",
       "      <th>Housing</th>\n",
       "      <td>497.619048</td>\n",
       "      <td>787.557078</td>\n",
       "      <td>631.327160</td>\n",
       "      <td>608.928571</td>\n",
       "      <td>631.899763</td>\n",
       "      <td>744.884707</td>\n",
       "      <td>850.195122</td>\n",
       "      <td>859.677858</td>\n",
       "      <td>661.019399</td>\n",
       "      <td>751.556973</td>\n",
       "      <td>623.098599</td>\n",
       "      <td>534.126626</td>\n",
       "      <td>574.562354</td>\n",
       "      <td>355.497300</td>\n",
       "      <td>510.843721</td>\n",
       "      <td>467.710145</td>\n",
       "    </tr>\n",
       "    <tr>\n",
       "      <th>Manufacturing</th>\n",
       "      <td>876.190476</td>\n",
       "      <td>616.530612</td>\n",
       "      <td>726.793558</td>\n",
       "      <td>670.545746</td>\n",
       "      <td>743.929110</td>\n",
       "      <td>826.202091</td>\n",
       "      <td>845.851805</td>\n",
       "      <td>803.423849</td>\n",
       "      <td>731.741097</td>\n",
       "      <td>728.960964</td>\n",
       "      <td>699.875622</td>\n",
       "      <td>636.758837</td>\n",
       "      <td>650.751685</td>\n",
       "      <td>718.838939</td>\n",
       "      <td>627.807102</td>\n",
       "      <td>655.320069</td>\n",
       "    </tr>\n",
       "    <tr>\n",
       "      <th>Personal Use</th>\n",
       "      <td>NaN</td>\n",
       "      <td>NaN</td>\n",
       "      <td>746.153846</td>\n",
       "      <td>644.179104</td>\n",
       "      <td>697.666025</td>\n",
       "      <td>737.875817</td>\n",
       "      <td>788.401342</td>\n",
       "      <td>724.211449</td>\n",
       "      <td>529.979420</td>\n",
       "      <td>444.361989</td>\n",
       "      <td>349.416185</td>\n",
       "      <td>294.110319</td>\n",
       "      <td>351.096421</td>\n",
       "      <td>283.993123</td>\n",
       "      <td>253.967643</td>\n",
       "      <td>221.531244</td>\n",
       "    </tr>\n",
       "    <tr>\n",
       "      <th>Retail</th>\n",
       "      <td>662.877698</td>\n",
       "      <td>623.515683</td>\n",
       "      <td>691.455414</td>\n",
       "      <td>618.487384</td>\n",
       "      <td>650.325903</td>\n",
       "      <td>699.755453</td>\n",
       "      <td>679.337690</td>\n",
       "      <td>657.246254</td>\n",
       "      <td>618.527521</td>\n",
       "      <td>571.719380</td>\n",
       "      <td>561.685924</td>\n",
       "      <td>563.980374</td>\n",
       "      <td>574.041141</td>\n",
       "      <td>618.165944</td>\n",
       "      <td>492.503917</td>\n",
       "      <td>481.147661</td>\n",
       "    </tr>\n",
       "    <tr>\n",
       "      <th>Services</th>\n",
       "      <td>736.238532</td>\n",
       "      <td>647.101310</td>\n",
       "      <td>706.189457</td>\n",
       "      <td>746.038588</td>\n",
       "      <td>765.898531</td>\n",
       "      <td>802.365713</td>\n",
       "      <td>825.746151</td>\n",
       "      <td>784.132039</td>\n",
       "      <td>747.411047</td>\n",
       "      <td>733.736279</td>\n",
       "      <td>705.279056</td>\n",
       "      <td>682.342026</td>\n",
       "      <td>664.005483</td>\n",
       "      <td>720.331824</td>\n",
       "      <td>742.198436</td>\n",
       "      <td>739.478877</td>\n",
       "    </tr>\n",
       "    <tr>\n",
       "      <th>Transportation</th>\n",
       "      <td>935.795455</td>\n",
       "      <td>692.133132</td>\n",
       "      <td>713.596774</td>\n",
       "      <td>636.237133</td>\n",
       "      <td>672.727933</td>\n",
       "      <td>741.246883</td>\n",
       "      <td>700.107685</td>\n",
       "      <td>730.416355</td>\n",
       "      <td>604.249881</td>\n",
       "      <td>641.660939</td>\n",
       "      <td>602.621745</td>\n",
       "      <td>562.821603</td>\n",
       "      <td>573.966942</td>\n",
       "      <td>615.539514</td>\n",
       "      <td>581.886045</td>\n",
       "      <td>583.908371</td>\n",
       "    </tr>\n",
       "    <tr>\n",
       "      <th>Wholesale</th>\n",
       "      <td>NaN</td>\n",
       "      <td>645.185185</td>\n",
       "      <td>775.104603</td>\n",
       "      <td>813.472222</td>\n",
       "      <td>779.938272</td>\n",
       "      <td>888.250000</td>\n",
       "      <td>942.625000</td>\n",
       "      <td>1096.262887</td>\n",
       "      <td>1135.472973</td>\n",
       "      <td>1050.265957</td>\n",
       "      <td>809.731544</td>\n",
       "      <td>836.526946</td>\n",
       "      <td>803.968254</td>\n",
       "      <td>865.789474</td>\n",
       "      <td>863.271605</td>\n",
       "      <td>930.932203</td>\n",
       "    </tr>\n",
       "  </tbody>\n",
       "</table>\n",
       "</div>"
      ],
      "text/plain": [
       "Year                  2006        2007        2008        2009        2010  \\\n",
       "SECTOR_NAME                                                                  \n",
       "Agriculture     677.455919  657.880235  684.617722  623.594413  678.098313   \n",
       "Arts            765.441176  556.600877  594.340278  602.074167  737.452420   \n",
       "Clothing        622.483221  646.504950  682.180233  708.049691  810.285639   \n",
       "Construction    784.405941  730.501618  723.112892  725.808538  751.904880   \n",
       "Education              NaN  794.642857  725.274725  666.281139  674.962121   \n",
       "Entertainment   603.571429  531.250000  681.770833  681.500000  636.285714   \n",
       "Food            647.490157  595.012937  645.766043  594.631202  647.141493   \n",
       "Health          809.722222  714.716312  768.494624  717.414530  764.544808   \n",
       "Housing         497.619048  787.557078  631.327160  608.928571  631.899763   \n",
       "Manufacturing   876.190476  616.530612  726.793558  670.545746  743.929110   \n",
       "Personal Use           NaN         NaN  746.153846  644.179104  697.666025   \n",
       "Retail          662.877698  623.515683  691.455414  618.487384  650.325903   \n",
       "Services        736.238532  647.101310  706.189457  746.038588  765.898531   \n",
       "Transportation  935.795455  692.133132  713.596774  636.237133  672.727933   \n",
       "Wholesale              NaN  645.185185  775.104603  813.472222  779.938272   \n",
       "\n",
       "Year                  2011        2012         2013         2014         2015  \\\n",
       "SECTOR_NAME                                                                     \n",
       "Agriculture     721.580157  764.921505   784.610301   710.890633   692.998049   \n",
       "Arts            745.825751  822.846524   708.797554   726.123110   673.768835   \n",
       "Clothing        812.513982  806.195974   779.448352   727.256545   765.992578   \n",
       "Construction    808.087460  816.363636   832.622774   798.184912   795.549417   \n",
       "Education       751.921182  860.717309   857.643714   797.358823   878.200633   \n",
       "Entertainment   801.954733  762.500000   812.931034   859.566327   863.425926   \n",
       "Food            642.240619  648.798015   643.258057   641.785714   610.653760   \n",
       "Health          766.472393  789.650229   912.354167   950.224359   856.627517   \n",
       "Housing         744.884707  850.195122   859.677858   661.019399   751.556973   \n",
       "Manufacturing   826.202091  845.851805   803.423849   731.741097   728.960964   \n",
       "Personal Use    737.875817  788.401342   724.211449   529.979420   444.361989   \n",
       "Retail          699.755453  679.337690   657.246254   618.527521   571.719380   \n",
       "Services        802.365713  825.746151   784.132039   747.411047   733.736279   \n",
       "Transportation  741.246883  700.107685   730.416355   604.249881   641.660939   \n",
       "Wholesale       888.250000  942.625000  1096.262887  1135.472973  1050.265957   \n",
       "\n",
       "Year                  2016        2017        2018        2019        2020  \\\n",
       "SECTOR_NAME                                                                  \n",
       "Agriculture     654.891644  634.365077  638.312252  641.168366  533.840443   \n",
       "Arts            639.175187  568.633703  605.140598  723.251998  780.572560   \n",
       "Clothing        773.964771  751.634396  707.910490  746.540881  683.967112   \n",
       "Construction    831.099935  753.264418  755.033784  837.999460  826.621297   \n",
       "Education       834.667050  846.851251  800.955204  778.835596  660.697207   \n",
       "Entertainment   883.210784  987.008734  879.015544  881.250000  890.476190   \n",
       "Food            615.656124  591.633768  586.867919  614.770576  530.509988   \n",
       "Health          832.403759  823.549853  853.683460  823.819041  695.913819   \n",
       "Housing         623.098599  534.126626  574.562354  355.497300  510.843721   \n",
       "Manufacturing   699.875622  636.758837  650.751685  718.838939  627.807102   \n",
       "Personal Use    349.416185  294.110319  351.096421  283.993123  253.967643   \n",
       "Retail          561.685924  563.980374  574.041141  618.165944  492.503917   \n",
       "Services        705.279056  682.342026  664.005483  720.331824  742.198436   \n",
       "Transportation  602.621745  562.821603  573.966942  615.539514  581.886045   \n",
       "Wholesale       809.731544  836.526946  803.968254  865.789474  863.271605   \n",
       "\n",
       "Year                  2021  \n",
       "SECTOR_NAME                 \n",
       "Agriculture     513.903631  \n",
       "Arts            799.155786  \n",
       "Clothing        675.896511  \n",
       "Construction    836.826698  \n",
       "Education       353.612646  \n",
       "Entertainment   807.692308  \n",
       "Food            531.230650  \n",
       "Health          686.162894  \n",
       "Housing         467.710145  \n",
       "Manufacturing   655.320069  \n",
       "Personal Use    221.531244  \n",
       "Retail          481.147661  \n",
       "Services        739.478877  \n",
       "Transportation  583.908371  \n",
       "Wholesale       930.932203  "
      ]
     },
     "execution_count": 39,
     "metadata": {},
     "output_type": "execute_result"
    }
   ],
   "source": [
    "newLoans.pivot_table('LOAN_AMOUNT',index='SECTOR_NAME',columns = 'Year')"
   ]
  },
  {
   "cell_type": "markdown",
   "metadata": {},
   "source": [
    "19. Get the number of days in the TIME_LENGTH variable we created and create a new variable 'Days'using it. Create a scatterplot of 'LOAN_AMOUNT' and 'Days'. What's your observation?"
   ]
  },
  {
   "cell_type": "code",
   "execution_count": 59,
   "metadata": {},
   "outputs": [
    {
     "name": "stderr",
     "output_type": "stream",
     "text": [
      "<ipython-input-59-3ceb5c998fa9>:1: SettingWithCopyWarning: \n",
      "A value is trying to be set on a copy of a slice from a DataFrame.\n",
      "Try using .loc[row_indexer,col_indexer] = value instead\n",
      "\n",
      "See the caveats in the documentation: https://pandas.pydata.org/pandas-docs/stable/user_guide/indexing.html#returning-a-view-versus-a-copy\n",
      "  newLoans['Days'] = newLoans['TIME_LENGTH'].dt.days\n"
     ]
    },
    {
     "data": {
      "text/plain": [
       "<matplotlib.collections.PathCollection at 0x174ff553fd0>"
      ]
     },
     "execution_count": 59,
     "metadata": {},
     "output_type": "execute_result"
    },
    {
     "data": {
      "image/png": "[encoded data removed]",
      "text/plain": [
       "<Figure size 432x288 with 1 Axes>"
      ]
     },
     "metadata": {
      "needs_background": "light"
     },
     "output_type": "display_data"
    }
   ],
   "source": [
    "newLoans['Days'] = newLoans['TIME_LENGTH'].dt.days\n",
    "plt.scatter(x=newLoans['Days'], y=newLoans['LOAN_AMOUNT'])"
   ]
  },
  {
   "cell_type": "markdown",
   "metadata": {},
   "source": [
    "20. Create a scatterplot of 'LOAN_AMOUNT' and 'LENDER_TERM'. What's your observation?"
   ]
  },
  {
   "cell_type": "code",
   "execution_count": 41,
   "metadata": {},
   "outputs": [
    {
     "data": {
      "text/plain": [
       "<matplotlib.collections.PathCollection at 0x28003cbafa0>"
      ]
     },
     "execution_count": 41,
     "metadata": {},
     "output_type": "execute_result"
    },
    {
     "data": {
      "image/png": "[encoded data removed]",
      "text/plain": [
       "<Figure size 432x288 with 1 Axes>"
      ]
     },
     "metadata": {
      "needs_background": "light"
     },
     "output_type": "display_data"
    }
   ],
   "source": [
    "plt.scatter(x=newLoans['LENDER_TERM'], y=newLoans['LOAN_AMOUNT'])"
   ]
  },
  {
   "cell_type": "markdown",
   "metadata": {},
   "source": [
    "21. Prepare the data for model analysis. The target variable is 'STATUS'. The predictor variables we want to include:<br>\n",
    "ORIGINAL_LANGUAGE<br>\n",
    "the logAmount variable we created<br>\n",
    "IMAGE_ID (the one we coded to 0/1)<br>\n",
    "SECTOR_NAME                              \n",
    "COUNTRY_NAME                             \n",
    "CURRENCY_POLICY                          \n",
    "CURRENCY_EXCHANGE_COVERAGE_RATE (the one we tranfromed)<br>\n",
    "Days we creatd based on the TIME_LENGTH <br>\n",
    "PREDISBURSE we created<br>\n",
    "LENDER_TERM                   \n",
    "NUM_JOURNAL_ENTRIES  \n",
    "NUM_BULK_ENTRIES     \n",
    "REPAYMENT_INTERVAL  \n",
    "DISTRIBUTION_MODEL<br>\n",
    "Now we can drop all records with missing values at this point."
   ]
  },
  {
   "cell_type": "code",
   "execution_count": 60,
   "metadata": {},
   "outputs": [],
   "source": [
    "target = newLoans['STATUS']\n",
    "y = target\n",
    "features = ['ORIGINAL_LANGUAGE',\n",
    " 'logAMount',\n",
    "'IMAGE_ID',\n",
    "'SECTOR_NAME',\n",
    "'COUNTRY_NAME',\n",
    "'CURRENCY_POLICY',\n",
    "'CURRENCY_EXCHANGE_COVERAGE_RATE',\n",
    "'Days',\n",
    "'PREDISBURSE',\n",
    "'LENDER_TERM',\n",
    "'NUM_JOURNAL_ENTRIES',\n",
    "'NUM_BULK_ENTRIES',\n",
    "'REPAYMENT_INTERVAL',\n",
    "'DISTRIBUTION_MODEL']\n",
    "\n",
    "X = newLoans[features]"
   ]
  },
  {
   "cell_type": "code",
   "execution_count": 61,
   "metadata": {},
   "outputs": [
    {
     "name": "stderr",
     "output_type": "stream",
     "text": [
      "<ipython-input-61-713fd8a42d51>:1: SettingWithCopyWarning: \n",
      "A value is trying to be set on a copy of a slice from a DataFrame\n",
      "\n",
      "See the caveats in the documentation: https://pandas.pydata.org/pandas-docs/stable/user_guide/indexing.html#returning-a-view-versus-a-copy\n",
      "  newLoans.dropna(inplace = True)\n"
     ]
    }
   ],
   "source": [
    "newLoans.dropna(inplace = True)"
   ]
  },
  {
   "cell_type": "code",
   "execution_count": 62,
   "metadata": {},
   "outputs": [
    {
     "data": {
      "text/plain": [
       "LOAN_ID                            0\n",
       "ORIGINAL_LANGUAGE                  0\n",
       "LOAN_AMOUNT                        0\n",
       "logAMount                          0\n",
       "IMAGE_ID                           0\n",
       "SECTOR_NAME                        0\n",
       "COUNTRY_NAME                       0\n",
       "CURRENCY_POLICY                    0\n",
       "CURRENCY_EXCHANGE_COVERAGE_RATE    0\n",
       "POSTED_TIME                        0\n",
       "TIME_LENGTH                        0\n",
       "DISBURSE_TIME                      0\n",
       "PREDISBURSE                        0\n",
       "RAISED_TIME                        0\n",
       "LENDER_TERM                        0\n",
       "NUM_JOURNAL_ENTRIES                0\n",
       "NUM_BULK_ENTRIES                   0\n",
       "REPAYMENT_INTERVAL                 0\n",
       "DISTRIBUTION_MODEL                 0\n",
       "STATUS                             0\n",
       "Year                               0\n",
       "Days                               0\n",
       "dtype: int64"
      ]
     },
     "execution_count": 62,
     "metadata": {},
     "output_type": "execute_result"
    }
   ],
   "source": [
    "newLoans.isnull().sum()"
   ]
  },
  {
   "cell_type": "markdown",
   "metadata": {},
   "source": [
    "22. Generate dummies for all categorical variables"
   ]
  },
  {
   "cell_type": "code",
   "execution_count": 73,
   "metadata": {},
   "outputs": [
    {
     "data": {
      "text/html": [
       "<div>\n",
       "<style scoped>\n",
       "    .dataframe tbody tr th:only-of-type {\n",
       "        vertical-align: middle;\n",
       "    }\n",
       "\n",
       "    .dataframe tbody tr th {\n",
       "        vertical-align: top;\n",
       "    }\n",
       "\n",
       "    .dataframe thead th {\n",
       "        text-align: right;\n",
       "    }\n",
       "</style>\n",
       "<table border=\"1\" class=\"dataframe\">\n",
       "  <thead>\n",
       "    <tr style=\"text-align: right;\">\n",
       "      <th></th>\n",
       "      <th>logAMount</th>\n",
       "      <th>IMAGE_ID</th>\n",
       "      <th>CURRENCY_EXCHANGE_COVERAGE_RATE</th>\n",
       "      <th>Days</th>\n",
       "      <th>PREDISBURSE</th>\n",
       "      <th>LENDER_TERM</th>\n",
       "      <th>NUM_JOURNAL_ENTRIES</th>\n",
       "      <th>NUM_BULK_ENTRIES</th>\n",
       "      <th>ORIGINAL_LANGUAGE_English</th>\n",
       "      <th>ORIGINAL_LANGUAGE_French</th>\n",
       "      <th>...</th>\n",
       "      <th>COUNTRY_NAME_United States</th>\n",
       "      <th>COUNTRY_NAME_Vanuatu</th>\n",
       "      <th>COUNTRY_NAME_Vietnam</th>\n",
       "      <th>COUNTRY_NAME_Yemen</th>\n",
       "      <th>COUNTRY_NAME_Zambia</th>\n",
       "      <th>COUNTRY_NAME_Zimbabwe</th>\n",
       "      <th>CURRENCY_POLICY_standard</th>\n",
       "      <th>REPAYMENT_INTERVAL_irregular</th>\n",
       "      <th>REPAYMENT_INTERVAL_monthly</th>\n",
       "      <th>DISTRIBUTION_MODEL_field_partner</th>\n",
       "    </tr>\n",
       "  </thead>\n",
       "  <tbody>\n",
       "    <tr>\n",
       "      <th>0</th>\n",
       "      <td>5.703782</td>\n",
       "      <td>1</td>\n",
       "      <td>0.1</td>\n",
       "      <td>-6.0</td>\n",
       "      <td>1</td>\n",
       "      <td>14.0</td>\n",
       "      <td>1</td>\n",
       "      <td>1</td>\n",
       "      <td>1</td>\n",
       "      <td>0</td>\n",
       "      <td>...</td>\n",
       "      <td>0</td>\n",
       "      <td>0</td>\n",
       "      <td>0</td>\n",
       "      <td>0</td>\n",
       "      <td>0</td>\n",
       "      <td>0</td>\n",
       "      <td>0</td>\n",
       "      <td>0</td>\n",
       "      <td>1</td>\n",
       "      <td>1</td>\n",
       "    </tr>\n",
       "    <tr>\n",
       "      <th>1</th>\n",
       "      <td>5.703782</td>\n",
       "      <td>1</td>\n",
       "      <td>0.1</td>\n",
       "      <td>-2.0</td>\n",
       "      <td>1</td>\n",
       "      <td>14.0</td>\n",
       "      <td>3</td>\n",
       "      <td>2</td>\n",
       "      <td>1</td>\n",
       "      <td>0</td>\n",
       "      <td>...</td>\n",
       "      <td>0</td>\n",
       "      <td>0</td>\n",
       "      <td>0</td>\n",
       "      <td>0</td>\n",
       "      <td>0</td>\n",
       "      <td>0</td>\n",
       "      <td>0</td>\n",
       "      <td>0</td>\n",
       "      <td>1</td>\n",
       "      <td>1</td>\n",
       "    </tr>\n",
       "    <tr>\n",
       "      <th>2</th>\n",
       "      <td>6.163315</td>\n",
       "      <td>1</td>\n",
       "      <td>0.2</td>\n",
       "      <td>-23.0</td>\n",
       "      <td>1</td>\n",
       "      <td>13.0</td>\n",
       "      <td>2</td>\n",
       "      <td>1</td>\n",
       "      <td>1</td>\n",
       "      <td>0</td>\n",
       "      <td>...</td>\n",
       "      <td>0</td>\n",
       "      <td>0</td>\n",
       "      <td>0</td>\n",
       "      <td>0</td>\n",
       "      <td>0</td>\n",
       "      <td>0</td>\n",
       "      <td>0</td>\n",
       "      <td>0</td>\n",
       "      <td>1</td>\n",
       "      <td>1</td>\n",
       "    </tr>\n",
       "    <tr>\n",
       "      <th>3</th>\n",
       "      <td>6.214608</td>\n",
       "      <td>1</td>\n",
       "      <td>0.1</td>\n",
       "      <td>-3.0</td>\n",
       "      <td>0</td>\n",
       "      <td>8.0</td>\n",
       "      <td>2</td>\n",
       "      <td>1</td>\n",
       "      <td>1</td>\n",
       "      <td>0</td>\n",
       "      <td>...</td>\n",
       "      <td>0</td>\n",
       "      <td>0</td>\n",
       "      <td>0</td>\n",
       "      <td>0</td>\n",
       "      <td>0</td>\n",
       "      <td>1</td>\n",
       "      <td>0</td>\n",
       "      <td>0</td>\n",
       "      <td>1</td>\n",
       "      <td>1</td>\n",
       "    </tr>\n",
       "    <tr>\n",
       "      <th>4</th>\n",
       "      <td>6.829794</td>\n",
       "      <td>1</td>\n",
       "      <td>0</td>\n",
       "      <td>-3.0</td>\n",
       "      <td>1</td>\n",
       "      <td>11.0</td>\n",
       "      <td>4</td>\n",
       "      <td>2</td>\n",
       "      <td>0</td>\n",
       "      <td>0</td>\n",
       "      <td>...</td>\n",
       "      <td>0</td>\n",
       "      <td>0</td>\n",
       "      <td>0</td>\n",
       "      <td>0</td>\n",
       "      <td>0</td>\n",
       "      <td>0</td>\n",
       "      <td>1</td>\n",
       "      <td>0</td>\n",
       "      <td>0</td>\n",
       "      <td>1</td>\n",
       "    </tr>\n",
       "  </tbody>\n",
       "</table>\n",
       "<p>5 rows × 123 columns</p>\n",
       "</div>"
      ],
      "text/plain": [
       "   logAMount  IMAGE_ID CURRENCY_EXCHANGE_COVERAGE_RATE  Days  PREDISBURSE  \\\n",
       "0   5.703782         1                             0.1  -6.0            1   \n",
       "1   5.703782         1                             0.1  -2.0            1   \n",
       "2   6.163315         1                             0.2 -23.0            1   \n",
       "3   6.214608         1                             0.1  -3.0            0   \n",
       "4   6.829794         1                               0  -3.0            1   \n",
       "\n",
       "   LENDER_TERM  NUM_JOURNAL_ENTRIES  NUM_BULK_ENTRIES  \\\n",
       "0         14.0                    1                 1   \n",
       "1         14.0                    3                 2   \n",
       "2         13.0                    2                 1   \n",
       "3          8.0                    2                 1   \n",
       "4         11.0                    4                 2   \n",
       "\n",
       "   ORIGINAL_LANGUAGE_English  ORIGINAL_LANGUAGE_French  ...  \\\n",
       "0                          1                         0  ...   \n",
       "1                          1                         0  ...   \n",
       "2                          1                         0  ...   \n",
       "3                          1                         0  ...   \n",
       "4                          0                         0  ...   \n",
       "\n",
       "   COUNTRY_NAME_United States  COUNTRY_NAME_Vanuatu  COUNTRY_NAME_Vietnam  \\\n",
       "0                           0                     0                     0   \n",
       "1                           0                     0                     0   \n",
       "2                           0                     0                     0   \n",
       "3                           0                     0                     0   \n",
       "4                           0                     0                     0   \n",
       "\n",
       "   COUNTRY_NAME_Yemen  COUNTRY_NAME_Zambia  COUNTRY_NAME_Zimbabwe  \\\n",
       "0                   0                    0                      0   \n",
       "1                   0                    0                      0   \n",
       "2                   0                    0                      0   \n",
       "3                   0                    0                      1   \n",
       "4                   0                    0                      0   \n",
       "\n",
       "   CURRENCY_POLICY_standard  REPAYMENT_INTERVAL_irregular  \\\n",
       "0                         0                             0   \n",
       "1                         0                             0   \n",
       "2                         0                             0   \n",
       "3                         0                             0   \n",
       "4                         1                             0   \n",
       "\n",
       "   REPAYMENT_INTERVAL_monthly  DISTRIBUTION_MODEL_field_partner  \n",
       "0                           1                                 1  \n",
       "1                           1                                 1  \n",
       "2                           1                                 1  \n",
       "3                           1                                 1  \n",
       "4                           0                                 1  \n",
       "\n",
       "[5 rows x 123 columns]"
      ]
     },
     "execution_count": 73,
     "metadata": {},
     "output_type": "execute_result"
    }
   ],
   "source": [
    "X = pd.get_dummies(X, columns=['ORIGINAL_LANGUAGE', 'SECTOR_NAME', 'COUNTRY_NAME','CURRENCY_POLICY', 'REPAYMENT_INTERVAL', 'DISTRIBUTION_MODEL'], drop_first = True)\n",
    "X.head()"
   ]
  },
  {
   "cell_type": "markdown",
   "metadata": {},
   "source": [
    "23. Prepare training and test datasets"
   ]
  },
  {
   "cell_type": "code",
   "execution_count": 74,
   "metadata": {},
   "outputs": [],
   "source": [
    "from sklearn.model_selection import train_test_split\n"
   ]
  },
  {
   "cell_type": "code",
   "execution_count": 75,
   "metadata": {},
   "outputs": [],
   "source": [
    "X_train, X_test, y_train,y_test = train_test_split (X, y, test_size = 0.30, random_state = 0)\n"
   ]
  },
  {
   "cell_type": "code",
   "execution_count": 76,
   "metadata": {},
   "outputs": [
    {
     "data": {
      "text/plain": [
       "627234"
      ]
     },
     "execution_count": 76,
     "metadata": {},
     "output_type": "execute_result"
    }
   ],
   "source": [
    "len(y_test)\n"
   ]
  },
  {
   "cell_type": "markdown",
   "metadata": {},
   "source": [
    "24. Fit a logistic regression model."
   ]
  },
  {
   "cell_type": "code",
   "execution_count": 78,
   "metadata": {},
   "outputs": [],
   "source": [
    "from sklearn.linear_model import LogisticRegression"
   ]
  },
  {
   "cell_type": "code",
   "execution_count": 83,
   "metadata": {},
   "outputs": [],
   "source": [
    "regressor = LogisticRegression()"
   ]
  },
  {
   "cell_type": "code",
   "execution_count": 84,
   "metadata": {},
   "outputs": [
    {
     "ename": "ValueError",
     "evalue": "Input contains NaN, infinity or a value too large for dtype('float64').",
     "output_type": "error",
     "traceback": [
      "\u001b[1;31m---------------------------------------------------------------------------\u001b[0m",
      "\u001b[1;31mValueError\u001b[0m                                Traceback (most recent call last)",
      "\u001b[1;32m<ipython-input-84-cb9aa30858d7>\u001b[0m in \u001b[0;36m<module>\u001b[1;34m\u001b[0m\n\u001b[1;32m----> 1\u001b[1;33m \u001b[0mregressor\u001b[0m\u001b[1;33m.\u001b[0m\u001b[0mfit\u001b[0m\u001b[1;33m(\u001b[0m\u001b[0mX_train\u001b[0m\u001b[1;33m,\u001b[0m \u001b[0my_train\u001b[0m\u001b[1;33m)\u001b[0m\u001b[1;33m\u001b[0m\u001b[1;33m\u001b[0m\u001b[0m\n\u001b[0m",
      "\u001b[1;32mC:\\Program Files\\Anaconda3\\lib\\site-packages\\sklearn\\linear_model\\_logistic.py\u001b[0m in \u001b[0;36mfit\u001b[1;34m(self, X, y, sample_weight)\u001b[0m\n\u001b[0;32m   1342\u001b[0m             \u001b[0m_dtype\u001b[0m \u001b[1;33m=\u001b[0m \u001b[1;33m[\u001b[0m\u001b[0mnp\u001b[0m\u001b[1;33m.\u001b[0m\u001b[0mfloat64\u001b[0m\u001b[1;33m,\u001b[0m \u001b[0mnp\u001b[0m\u001b[1;33m.\u001b[0m\u001b[0mfloat32\u001b[0m\u001b[1;33m]\u001b[0m\u001b[1;33m\u001b[0m\u001b[1;33m\u001b[0m\u001b[0m\n\u001b[0;32m   1343\u001b[0m \u001b[1;33m\u001b[0m\u001b[0m\n\u001b[1;32m-> 1344\u001b[1;33m         X, y = self._validate_data(X, y, accept_sparse='csr', dtype=_dtype,\n\u001b[0m\u001b[0;32m   1345\u001b[0m                                    \u001b[0morder\u001b[0m\u001b[1;33m=\u001b[0m\u001b[1;34m\"C\"\u001b[0m\u001b[1;33m,\u001b[0m\u001b[1;33m\u001b[0m\u001b[1;33m\u001b[0m\u001b[0m\n\u001b[0;32m   1346\u001b[0m                                    accept_large_sparse=solver != 'liblinear')\n",
      "\u001b[1;32mC:\\Program Files\\Anaconda3\\lib\\site-packages\\sklearn\\base.py\u001b[0m in \u001b[0;36m_validate_data\u001b[1;34m(self, X, y, reset, validate_separately, **check_params)\u001b[0m\n\u001b[0;32m    431\u001b[0m                 \u001b[0my\u001b[0m \u001b[1;33m=\u001b[0m \u001b[0mcheck_array\u001b[0m\u001b[1;33m(\u001b[0m\u001b[0my\u001b[0m\u001b[1;33m,\u001b[0m \u001b[1;33m**\u001b[0m\u001b[0mcheck_y_params\u001b[0m\u001b[1;33m)\u001b[0m\u001b[1;33m\u001b[0m\u001b[1;33m\u001b[0m\u001b[0m\n\u001b[0;32m    432\u001b[0m             \u001b[1;32melse\u001b[0m\u001b[1;33m:\u001b[0m\u001b[1;33m\u001b[0m\u001b[1;33m\u001b[0m\u001b[0m\n\u001b[1;32m--> 433\u001b[1;33m                 \u001b[0mX\u001b[0m\u001b[1;33m,\u001b[0m \u001b[0my\u001b[0m \u001b[1;33m=\u001b[0m \u001b[0mcheck_X_y\u001b[0m\u001b[1;33m(\u001b[0m\u001b[0mX\u001b[0m\u001b[1;33m,\u001b[0m \u001b[0my\u001b[0m\u001b[1;33m,\u001b[0m \u001b[1;33m**\u001b[0m\u001b[0mcheck_params\u001b[0m\u001b[1;33m)\u001b[0m\u001b[1;33m\u001b[0m\u001b[1;33m\u001b[0m\u001b[0m\n\u001b[0m\u001b[0;32m    434\u001b[0m             \u001b[0mout\u001b[0m \u001b[1;33m=\u001b[0m \u001b[0mX\u001b[0m\u001b[1;33m,\u001b[0m \u001b[0my\u001b[0m\u001b[1;33m\u001b[0m\u001b[1;33m\u001b[0m\u001b[0m\n\u001b[0;32m    435\u001b[0m \u001b[1;33m\u001b[0m\u001b[0m\n",
      "\u001b[1;32mC:\\Program Files\\Anaconda3\\lib\\site-packages\\sklearn\\utils\\validation.py\u001b[0m in \u001b[0;36minner_f\u001b[1;34m(*args, **kwargs)\u001b[0m\n\u001b[0;32m     61\u001b[0m             \u001b[0mextra_args\u001b[0m \u001b[1;33m=\u001b[0m \u001b[0mlen\u001b[0m\u001b[1;33m(\u001b[0m\u001b[0margs\u001b[0m\u001b[1;33m)\u001b[0m \u001b[1;33m-\u001b[0m \u001b[0mlen\u001b[0m\u001b[1;33m(\u001b[0m\u001b[0mall_args\u001b[0m\u001b[1;33m)\u001b[0m\u001b[1;33m\u001b[0m\u001b[1;33m\u001b[0m\u001b[0m\n\u001b[0;32m     62\u001b[0m             \u001b[1;32mif\u001b[0m \u001b[0mextra_args\u001b[0m \u001b[1;33m<=\u001b[0m \u001b[1;36m0\u001b[0m\u001b[1;33m:\u001b[0m\u001b[1;33m\u001b[0m\u001b[1;33m\u001b[0m\u001b[0m\n\u001b[1;32m---> 63\u001b[1;33m                 \u001b[1;32mreturn\u001b[0m \u001b[0mf\u001b[0m\u001b[1;33m(\u001b[0m\u001b[1;33m*\u001b[0m\u001b[0margs\u001b[0m\u001b[1;33m,\u001b[0m \u001b[1;33m**\u001b[0m\u001b[0mkwargs\u001b[0m\u001b[1;33m)\u001b[0m\u001b[1;33m\u001b[0m\u001b[1;33m\u001b[0m\u001b[0m\n\u001b[0m\u001b[0;32m     64\u001b[0m \u001b[1;33m\u001b[0m\u001b[0m\n\u001b[0;32m     65\u001b[0m             \u001b[1;31m# extra_args > 0\u001b[0m\u001b[1;33m\u001b[0m\u001b[1;33m\u001b[0m\u001b[1;33m\u001b[0m\u001b[0m\n",
      "\u001b[1;32mC:\\Program Files\\Anaconda3\\lib\\site-packages\\sklearn\\utils\\validation.py\u001b[0m in \u001b[0;36mcheck_X_y\u001b[1;34m(X, y, accept_sparse, accept_large_sparse, dtype, order, copy, force_all_finite, ensure_2d, allow_nd, multi_output, ensure_min_samples, ensure_min_features, y_numeric, estimator)\u001b[0m\n\u001b[0;32m    812\u001b[0m         \u001b[1;32mraise\u001b[0m \u001b[0mValueError\u001b[0m\u001b[1;33m(\u001b[0m\u001b[1;34m\"y cannot be None\"\u001b[0m\u001b[1;33m)\u001b[0m\u001b[1;33m\u001b[0m\u001b[1;33m\u001b[0m\u001b[0m\n\u001b[0;32m    813\u001b[0m \u001b[1;33m\u001b[0m\u001b[0m\n\u001b[1;32m--> 814\u001b[1;33m     X = check_array(X, accept_sparse=accept_sparse,\n\u001b[0m\u001b[0;32m    815\u001b[0m                     \u001b[0maccept_large_sparse\u001b[0m\u001b[1;33m=\u001b[0m\u001b[0maccept_large_sparse\u001b[0m\u001b[1;33m,\u001b[0m\u001b[1;33m\u001b[0m\u001b[1;33m\u001b[0m\u001b[0m\n\u001b[0;32m    816\u001b[0m                     \u001b[0mdtype\u001b[0m\u001b[1;33m=\u001b[0m\u001b[0mdtype\u001b[0m\u001b[1;33m,\u001b[0m \u001b[0morder\u001b[0m\u001b[1;33m=\u001b[0m\u001b[0morder\u001b[0m\u001b[1;33m,\u001b[0m \u001b[0mcopy\u001b[0m\u001b[1;33m=\u001b[0m\u001b[0mcopy\u001b[0m\u001b[1;33m,\u001b[0m\u001b[1;33m\u001b[0m\u001b[1;33m\u001b[0m\u001b[0m\n",
      "\u001b[1;32mC:\\Program Files\\Anaconda3\\lib\\site-packages\\sklearn\\utils\\validation.py\u001b[0m in \u001b[0;36minner_f\u001b[1;34m(*args, **kwargs)\u001b[0m\n\u001b[0;32m     61\u001b[0m             \u001b[0mextra_args\u001b[0m \u001b[1;33m=\u001b[0m \u001b[0mlen\u001b[0m\u001b[1;33m(\u001b[0m\u001b[0margs\u001b[0m\u001b[1;33m)\u001b[0m \u001b[1;33m-\u001b[0m \u001b[0mlen\u001b[0m\u001b[1;33m(\u001b[0m\u001b[0mall_args\u001b[0m\u001b[1;33m)\u001b[0m\u001b[1;33m\u001b[0m\u001b[1;33m\u001b[0m\u001b[0m\n\u001b[0;32m     62\u001b[0m             \u001b[1;32mif\u001b[0m \u001b[0mextra_args\u001b[0m \u001b[1;33m<=\u001b[0m \u001b[1;36m0\u001b[0m\u001b[1;33m:\u001b[0m\u001b[1;33m\u001b[0m\u001b[1;33m\u001b[0m\u001b[0m\n\u001b[1;32m---> 63\u001b[1;33m                 \u001b[1;32mreturn\u001b[0m \u001b[0mf\u001b[0m\u001b[1;33m(\u001b[0m\u001b[1;33m*\u001b[0m\u001b[0margs\u001b[0m\u001b[1;33m,\u001b[0m \u001b[1;33m**\u001b[0m\u001b[0mkwargs\u001b[0m\u001b[1;33m)\u001b[0m\u001b[1;33m\u001b[0m\u001b[1;33m\u001b[0m\u001b[0m\n\u001b[0m\u001b[0;32m     64\u001b[0m \u001b[1;33m\u001b[0m\u001b[0m\n\u001b[0;32m     65\u001b[0m             \u001b[1;31m# extra_args > 0\u001b[0m\u001b[1;33m\u001b[0m\u001b[1;33m\u001b[0m\u001b[1;33m\u001b[0m\u001b[0m\n",
      "\u001b[1;32mC:\\Program Files\\Anaconda3\\lib\\site-packages\\sklearn\\utils\\validation.py\u001b[0m in \u001b[0;36mcheck_array\u001b[1;34m(array, accept_sparse, accept_large_sparse, dtype, order, copy, force_all_finite, ensure_2d, allow_nd, ensure_min_samples, ensure_min_features, estimator)\u001b[0m\n\u001b[0;32m    661\u001b[0m \u001b[1;33m\u001b[0m\u001b[0m\n\u001b[0;32m    662\u001b[0m         \u001b[1;32mif\u001b[0m \u001b[0mforce_all_finite\u001b[0m\u001b[1;33m:\u001b[0m\u001b[1;33m\u001b[0m\u001b[1;33m\u001b[0m\u001b[0m\n\u001b[1;32m--> 663\u001b[1;33m             _assert_all_finite(array,\n\u001b[0m\u001b[0;32m    664\u001b[0m                                allow_nan=force_all_finite == 'allow-nan')\n\u001b[0;32m    665\u001b[0m \u001b[1;33m\u001b[0m\u001b[0m\n",
      "\u001b[1;32mC:\\Program Files\\Anaconda3\\lib\\site-packages\\sklearn\\utils\\validation.py\u001b[0m in \u001b[0;36m_assert_all_finite\u001b[1;34m(X, allow_nan, msg_dtype)\u001b[0m\n\u001b[0;32m    101\u001b[0m                 not allow_nan and not np.isfinite(X).all()):\n\u001b[0;32m    102\u001b[0m             \u001b[0mtype_err\u001b[0m \u001b[1;33m=\u001b[0m \u001b[1;34m'infinity'\u001b[0m \u001b[1;32mif\u001b[0m \u001b[0mallow_nan\u001b[0m \u001b[1;32melse\u001b[0m \u001b[1;34m'NaN, infinity'\u001b[0m\u001b[1;33m\u001b[0m\u001b[1;33m\u001b[0m\u001b[0m\n\u001b[1;32m--> 103\u001b[1;33m             raise ValueError(\n\u001b[0m\u001b[0;32m    104\u001b[0m                     \u001b[0mmsg_err\u001b[0m\u001b[1;33m.\u001b[0m\u001b[0mformat\u001b[0m\u001b[1;33m\u001b[0m\u001b[1;33m\u001b[0m\u001b[0m\n\u001b[0;32m    105\u001b[0m                     (type_err,\n",
      "\u001b[1;31mValueError\u001b[0m: Input contains NaN, infinity or a value too large for dtype('float64')."
     ]
    }
   ],
   "source": [
    "regressor.fit(X_train, y_train)"
   ]
  },
  {
   "cell_type": "markdown",
   "metadata": {},
   "source": [
    "25. Get the predicted results for the test dataset"
   ]
  },
  {
   "cell_type": "code",
   "execution_count": 85,
   "metadata": {},
   "outputs": [
    {
     "ename": "NotFittedError",
     "evalue": "This LogisticRegression instance is not fitted yet. Call 'fit' with appropriate arguments before using this estimator.",
     "output_type": "error",
     "traceback": [
      "\u001b[1;31m---------------------------------------------------------------------------\u001b[0m",
      "\u001b[1;31mNotFittedError\u001b[0m                            Traceback (most recent call last)",
      "\u001b[1;32m<ipython-input-85-fd385aa7a4a9>\u001b[0m in \u001b[0;36m<module>\u001b[1;34m\u001b[0m\n\u001b[1;32m----> 1\u001b[1;33m \u001b[0my_pred\u001b[0m \u001b[1;33m=\u001b[0m \u001b[0mregressor\u001b[0m\u001b[1;33m.\u001b[0m\u001b[0mpredict\u001b[0m \u001b[1;33m(\u001b[0m\u001b[0mX_test\u001b[0m\u001b[1;33m)\u001b[0m\u001b[1;33m\u001b[0m\u001b[1;33m\u001b[0m\u001b[0m\n\u001b[0m\u001b[0;32m      2\u001b[0m \u001b[0my_pred\u001b[0m\u001b[1;33m\u001b[0m\u001b[1;33m\u001b[0m\u001b[0m\n\u001b[0;32m      3\u001b[0m \u001b[0my_pred\u001b[0m\u001b[1;33m.\u001b[0m\u001b[0mshape\u001b[0m\u001b[1;33m\u001b[0m\u001b[1;33m\u001b[0m\u001b[0m\n",
      "\u001b[1;32mC:\\Program Files\\Anaconda3\\lib\\site-packages\\sklearn\\linear_model\\_base.py\u001b[0m in \u001b[0;36mpredict\u001b[1;34m(self, X)\u001b[0m\n\u001b[0;32m    307\u001b[0m             \u001b[0mPredicted\u001b[0m \u001b[1;32mclass\u001b[0m \u001b[0mlabel\u001b[0m \u001b[0mper\u001b[0m \u001b[0msample\u001b[0m\u001b[1;33m.\u001b[0m\u001b[1;33m\u001b[0m\u001b[1;33m\u001b[0m\u001b[0m\n\u001b[0;32m    308\u001b[0m         \"\"\"\n\u001b[1;32m--> 309\u001b[1;33m         \u001b[0mscores\u001b[0m \u001b[1;33m=\u001b[0m \u001b[0mself\u001b[0m\u001b[1;33m.\u001b[0m\u001b[0mdecision_function\u001b[0m\u001b[1;33m(\u001b[0m\u001b[0mX\u001b[0m\u001b[1;33m)\u001b[0m\u001b[1;33m\u001b[0m\u001b[1;33m\u001b[0m\u001b[0m\n\u001b[0m\u001b[0;32m    310\u001b[0m         \u001b[1;32mif\u001b[0m \u001b[0mlen\u001b[0m\u001b[1;33m(\u001b[0m\u001b[0mscores\u001b[0m\u001b[1;33m.\u001b[0m\u001b[0mshape\u001b[0m\u001b[1;33m)\u001b[0m \u001b[1;33m==\u001b[0m \u001b[1;36m1\u001b[0m\u001b[1;33m:\u001b[0m\u001b[1;33m\u001b[0m\u001b[1;33m\u001b[0m\u001b[0m\n\u001b[0;32m    311\u001b[0m             \u001b[0mindices\u001b[0m \u001b[1;33m=\u001b[0m \u001b[1;33m(\u001b[0m\u001b[0mscores\u001b[0m \u001b[1;33m>\u001b[0m \u001b[1;36m0\u001b[0m\u001b[1;33m)\u001b[0m\u001b[1;33m.\u001b[0m\u001b[0mastype\u001b[0m\u001b[1;33m(\u001b[0m\u001b[0mint\u001b[0m\u001b[1;33m)\u001b[0m\u001b[1;33m\u001b[0m\u001b[1;33m\u001b[0m\u001b[0m\n",
      "\u001b[1;32mC:\\Program Files\\Anaconda3\\lib\\site-packages\\sklearn\\linear_model\\_base.py\u001b[0m in \u001b[0;36mdecision_function\u001b[1;34m(self, X)\u001b[0m\n\u001b[0;32m    280\u001b[0m             \u001b[1;32mclass\u001b[0m \u001b[0mwould\u001b[0m \u001b[0mbe\u001b[0m \u001b[0mpredicted\u001b[0m\u001b[1;33m.\u001b[0m\u001b[1;33m\u001b[0m\u001b[1;33m\u001b[0m\u001b[0m\n\u001b[0;32m    281\u001b[0m         \"\"\"\n\u001b[1;32m--> 282\u001b[1;33m         \u001b[0mcheck_is_fitted\u001b[0m\u001b[1;33m(\u001b[0m\u001b[0mself\u001b[0m\u001b[1;33m)\u001b[0m\u001b[1;33m\u001b[0m\u001b[1;33m\u001b[0m\u001b[0m\n\u001b[0m\u001b[0;32m    283\u001b[0m \u001b[1;33m\u001b[0m\u001b[0m\n\u001b[0;32m    284\u001b[0m         \u001b[0mX\u001b[0m \u001b[1;33m=\u001b[0m \u001b[0mcheck_array\u001b[0m\u001b[1;33m(\u001b[0m\u001b[0mX\u001b[0m\u001b[1;33m,\u001b[0m \u001b[0maccept_sparse\u001b[0m\u001b[1;33m=\u001b[0m\u001b[1;34m'csr'\u001b[0m\u001b[1;33m)\u001b[0m\u001b[1;33m\u001b[0m\u001b[1;33m\u001b[0m\u001b[0m\n",
      "\u001b[1;32mC:\\Program Files\\Anaconda3\\lib\\site-packages\\sklearn\\utils\\validation.py\u001b[0m in \u001b[0;36minner_f\u001b[1;34m(*args, **kwargs)\u001b[0m\n\u001b[0;32m     61\u001b[0m             \u001b[0mextra_args\u001b[0m \u001b[1;33m=\u001b[0m \u001b[0mlen\u001b[0m\u001b[1;33m(\u001b[0m\u001b[0margs\u001b[0m\u001b[1;33m)\u001b[0m \u001b[1;33m-\u001b[0m \u001b[0mlen\u001b[0m\u001b[1;33m(\u001b[0m\u001b[0mall_args\u001b[0m\u001b[1;33m)\u001b[0m\u001b[1;33m\u001b[0m\u001b[1;33m\u001b[0m\u001b[0m\n\u001b[0;32m     62\u001b[0m             \u001b[1;32mif\u001b[0m \u001b[0mextra_args\u001b[0m \u001b[1;33m<=\u001b[0m \u001b[1;36m0\u001b[0m\u001b[1;33m:\u001b[0m\u001b[1;33m\u001b[0m\u001b[1;33m\u001b[0m\u001b[0m\n\u001b[1;32m---> 63\u001b[1;33m                 \u001b[1;32mreturn\u001b[0m \u001b[0mf\u001b[0m\u001b[1;33m(\u001b[0m\u001b[1;33m*\u001b[0m\u001b[0margs\u001b[0m\u001b[1;33m,\u001b[0m \u001b[1;33m**\u001b[0m\u001b[0mkwargs\u001b[0m\u001b[1;33m)\u001b[0m\u001b[1;33m\u001b[0m\u001b[1;33m\u001b[0m\u001b[0m\n\u001b[0m\u001b[0;32m     64\u001b[0m \u001b[1;33m\u001b[0m\u001b[0m\n\u001b[0;32m     65\u001b[0m             \u001b[1;31m# extra_args > 0\u001b[0m\u001b[1;33m\u001b[0m\u001b[1;33m\u001b[0m\u001b[1;33m\u001b[0m\u001b[0m\n",
      "\u001b[1;32mC:\\Program Files\\Anaconda3\\lib\\site-packages\\sklearn\\utils\\validation.py\u001b[0m in \u001b[0;36mcheck_is_fitted\u001b[1;34m(estimator, attributes, msg, all_or_any)\u001b[0m\n\u001b[0;32m   1039\u001b[0m \u001b[1;33m\u001b[0m\u001b[0m\n\u001b[0;32m   1040\u001b[0m     \u001b[1;32mif\u001b[0m \u001b[1;32mnot\u001b[0m \u001b[0mattrs\u001b[0m\u001b[1;33m:\u001b[0m\u001b[1;33m\u001b[0m\u001b[1;33m\u001b[0m\u001b[0m\n\u001b[1;32m-> 1041\u001b[1;33m         \u001b[1;32mraise\u001b[0m \u001b[0mNotFittedError\u001b[0m\u001b[1;33m(\u001b[0m\u001b[0mmsg\u001b[0m \u001b[1;33m%\u001b[0m \u001b[1;33m{\u001b[0m\u001b[1;34m'name'\u001b[0m\u001b[1;33m:\u001b[0m \u001b[0mtype\u001b[0m\u001b[1;33m(\u001b[0m\u001b[0mestimator\u001b[0m\u001b[1;33m)\u001b[0m\u001b[1;33m.\u001b[0m\u001b[0m__name__\u001b[0m\u001b[1;33m}\u001b[0m\u001b[1;33m)\u001b[0m\u001b[1;33m\u001b[0m\u001b[1;33m\u001b[0m\u001b[0m\n\u001b[0m\u001b[0;32m   1042\u001b[0m \u001b[1;33m\u001b[0m\u001b[0m\n\u001b[0;32m   1043\u001b[0m \u001b[1;33m\u001b[0m\u001b[0m\n",
      "\u001b[1;31mNotFittedError\u001b[0m: This LogisticRegression instance is not fitted yet. Call 'fit' with appropriate arguments before using this estimator."
     ]
    }
   ],
   "source": [
    "y_pred = regressor.predict (X_test)\n",
    "y_pred\n",
    "y_pred.shape"
   ]
  },
  {
   "cell_type": "markdown",
   "metadata": {},
   "source": [
    "26. Evaluate the model using accuracy rate and confusion matrix."
   ]
  },
  {
   "cell_type": "code",
   "execution_count": 86,
   "metadata": {},
   "outputs": [
    {
     "ename": "SyntaxError",
     "evalue": "unexpected EOF while parsing (<ipython-input-86-2a872991ab3d>, line 2)",
     "output_type": "error",
     "traceback": [
      "\u001b[1;36m  File \u001b[1;32m\"<ipython-input-86-2a872991ab3d>\"\u001b[1;36m, line \u001b[1;32m2\u001b[0m\n\u001b[1;33m    print ('accuracy'= accuracy_score( y_test, y_pred )*100\u001b[0m\n\u001b[1;37m                                                           ^\u001b[0m\n\u001b[1;31mSyntaxError\u001b[0m\u001b[1;31m:\u001b[0m unexpected EOF while parsing\n"
     ]
    }
   ],
   "source": [
    "from sklearn.metrics import accuracy_score\n",
    "print ('accuracy'= accuracy_score( y_test, y_pred )*100"
   ]
  },
  {
   "cell_type": "code",
   "execution_count": 87,
   "metadata": {},
   "outputs": [
    {
     "ename": "NameError",
     "evalue": "name 'yc_test' is not defined",
     "output_type": "error",
     "traceback": [
      "\u001b[1;31m---------------------------------------------------------------------------\u001b[0m",
      "\u001b[1;31mNameError\u001b[0m                                 Traceback (most recent call last)",
      "\u001b[1;32m<ipython-input-87-e09b071178fb>\u001b[0m in \u001b[0;36m<module>\u001b[1;34m\u001b[0m\n\u001b[0;32m      1\u001b[0m \u001b[1;32mfrom\u001b[0m \u001b[0msklearn\u001b[0m\u001b[1;33m.\u001b[0m\u001b[0mmetrics\u001b[0m \u001b[1;32mimport\u001b[0m \u001b[0mconfusion_matrix\u001b[0m\u001b[1;33m\u001b[0m\u001b[1;33m\u001b[0m\u001b[0m\n\u001b[1;32m----> 2\u001b[1;33m \u001b[0mcnf_matrix\u001b[0m \u001b[1;33m=\u001b[0m \u001b[0mconfusion_matrix\u001b[0m\u001b[1;33m(\u001b[0m\u001b[0myc_test\u001b[0m\u001b[1;33m,\u001b[0m \u001b[0my_pred\u001b[0m\u001b[1;33m)\u001b[0m\u001b[1;33m\u001b[0m\u001b[1;33m\u001b[0m\u001b[0m\n\u001b[0m",
      "\u001b[1;31mNameError\u001b[0m: name 'yc_test' is not defined"
     ]
    }
   ],
   "source": [
    "from sklearn.metrics import confusion_matrix\n",
    "cnf_matrix = confusion_matrix(yc_test, y_pred)"
   ]
  },
  {
   "cell_type": "markdown",
   "metadata": {},
   "source": [
    "27. Repeat Step 24-26 using another classification method. Which method has better results?"
   ]
  },
  {
   "cell_type": "code",
   "execution_count": 88,
   "metadata": {},
   "outputs": [],
   "source": [
    "from sklearn.tree import DecisionTreeClassifier"
   ]
  },
  {
   "cell_type": "code",
   "execution_count": 96,
   "metadata": {},
   "outputs": [
    {
     "ename": "ValueError",
     "evalue": "Input contains NaN, infinity or a value too large for dtype('float32').",
     "output_type": "error",
     "traceback": [
      "\u001b[1;31m---------------------------------------------------------------------------\u001b[0m",
      "\u001b[1;31mValueError\u001b[0m                                Traceback (most recent call last)",
      "\u001b[1;32m<ipython-input-96-ae270a59a287>\u001b[0m in \u001b[0;36m<module>\u001b[1;34m\u001b[0m\n\u001b[0;32m      1\u001b[0m \u001b[0mclf\u001b[0m \u001b[1;33m=\u001b[0m \u001b[0mDecisionTreeClassifier\u001b[0m \u001b[1;33m(\u001b[0m\u001b[1;33m)\u001b[0m\u001b[1;33m\u001b[0m\u001b[1;33m\u001b[0m\u001b[0m\n\u001b[1;32m----> 2\u001b[1;33m \u001b[0mclf\u001b[0m \u001b[1;33m=\u001b[0m \u001b[0mclf\u001b[0m\u001b[1;33m.\u001b[0m\u001b[0mfit\u001b[0m\u001b[1;33m(\u001b[0m\u001b[0mX_train\u001b[0m \u001b[1;33m,\u001b[0m \u001b[0my_train\u001b[0m\u001b[1;33m)\u001b[0m\u001b[1;33m\u001b[0m\u001b[1;33m\u001b[0m\u001b[0m\n\u001b[0m\u001b[0;32m      3\u001b[0m \u001b[0my_pred2\u001b[0m \u001b[1;33m=\u001b[0m \u001b[0mclf\u001b[0m\u001b[1;33m.\u001b[0m\u001b[0mpredict\u001b[0m \u001b[1;33m(\u001b[0m\u001b[0mX_test\u001b[0m\u001b[1;33m)\u001b[0m\u001b[1;33m\u001b[0m\u001b[1;33m\u001b[0m\u001b[0m\n",
      "\u001b[1;32mC:\\Program Files\\Anaconda3\\lib\\site-packages\\sklearn\\tree\\_classes.py\u001b[0m in \u001b[0;36mfit\u001b[1;34m(self, X, y, sample_weight, check_input, X_idx_sorted)\u001b[0m\n\u001b[0;32m    896\u001b[0m         \"\"\"\n\u001b[0;32m    897\u001b[0m \u001b[1;33m\u001b[0m\u001b[0m\n\u001b[1;32m--> 898\u001b[1;33m         super().fit(\n\u001b[0m\u001b[0;32m    899\u001b[0m             \u001b[0mX\u001b[0m\u001b[1;33m,\u001b[0m \u001b[0my\u001b[0m\u001b[1;33m,\u001b[0m\u001b[1;33m\u001b[0m\u001b[1;33m\u001b[0m\u001b[0m\n\u001b[0;32m    900\u001b[0m             \u001b[0msample_weight\u001b[0m\u001b[1;33m=\u001b[0m\u001b[0msample_weight\u001b[0m\u001b[1;33m,\u001b[0m\u001b[1;33m\u001b[0m\u001b[1;33m\u001b[0m\u001b[0m\n",
      "\u001b[1;32mC:\\Program Files\\Anaconda3\\lib\\site-packages\\sklearn\\tree\\_classes.py\u001b[0m in \u001b[0;36mfit\u001b[1;34m(self, X, y, sample_weight, check_input, X_idx_sorted)\u001b[0m\n\u001b[0;32m    154\u001b[0m             \u001b[0mcheck_X_params\u001b[0m \u001b[1;33m=\u001b[0m \u001b[0mdict\u001b[0m\u001b[1;33m(\u001b[0m\u001b[0mdtype\u001b[0m\u001b[1;33m=\u001b[0m\u001b[0mDTYPE\u001b[0m\u001b[1;33m,\u001b[0m \u001b[0maccept_sparse\u001b[0m\u001b[1;33m=\u001b[0m\u001b[1;34m\"csc\"\u001b[0m\u001b[1;33m)\u001b[0m\u001b[1;33m\u001b[0m\u001b[1;33m\u001b[0m\u001b[0m\n\u001b[0;32m    155\u001b[0m             \u001b[0mcheck_y_params\u001b[0m \u001b[1;33m=\u001b[0m \u001b[0mdict\u001b[0m\u001b[1;33m(\u001b[0m\u001b[0mensure_2d\u001b[0m\u001b[1;33m=\u001b[0m\u001b[1;32mFalse\u001b[0m\u001b[1;33m,\u001b[0m \u001b[0mdtype\u001b[0m\u001b[1;33m=\u001b[0m\u001b[1;32mNone\u001b[0m\u001b[1;33m)\u001b[0m\u001b[1;33m\u001b[0m\u001b[1;33m\u001b[0m\u001b[0m\n\u001b[1;32m--> 156\u001b[1;33m             X, y = self._validate_data(X, y,\n\u001b[0m\u001b[0;32m    157\u001b[0m                                        validate_separately=(check_X_params,\n\u001b[0;32m    158\u001b[0m                                                             check_y_params))\n",
      "\u001b[1;32mC:\\Program Files\\Anaconda3\\lib\\site-packages\\sklearn\\base.py\u001b[0m in \u001b[0;36m_validate_data\u001b[1;34m(self, X, y, reset, validate_separately, **check_params)\u001b[0m\n\u001b[0;32m    428\u001b[0m                 \u001b[1;31m# :(\u001b[0m\u001b[1;33m\u001b[0m\u001b[1;33m\u001b[0m\u001b[1;33m\u001b[0m\u001b[0m\n\u001b[0;32m    429\u001b[0m                 \u001b[0mcheck_X_params\u001b[0m\u001b[1;33m,\u001b[0m \u001b[0mcheck_y_params\u001b[0m \u001b[1;33m=\u001b[0m \u001b[0mvalidate_separately\u001b[0m\u001b[1;33m\u001b[0m\u001b[1;33m\u001b[0m\u001b[0m\n\u001b[1;32m--> 430\u001b[1;33m                 \u001b[0mX\u001b[0m \u001b[1;33m=\u001b[0m \u001b[0mcheck_array\u001b[0m\u001b[1;33m(\u001b[0m\u001b[0mX\u001b[0m\u001b[1;33m,\u001b[0m \u001b[1;33m**\u001b[0m\u001b[0mcheck_X_params\u001b[0m\u001b[1;33m)\u001b[0m\u001b[1;33m\u001b[0m\u001b[1;33m\u001b[0m\u001b[0m\n\u001b[0m\u001b[0;32m    431\u001b[0m                 \u001b[0my\u001b[0m \u001b[1;33m=\u001b[0m \u001b[0mcheck_array\u001b[0m\u001b[1;33m(\u001b[0m\u001b[0my\u001b[0m\u001b[1;33m,\u001b[0m \u001b[1;33m**\u001b[0m\u001b[0mcheck_y_params\u001b[0m\u001b[1;33m)\u001b[0m\u001b[1;33m\u001b[0m\u001b[1;33m\u001b[0m\u001b[0m\n\u001b[0;32m    432\u001b[0m             \u001b[1;32melse\u001b[0m\u001b[1;33m:\u001b[0m\u001b[1;33m\u001b[0m\u001b[1;33m\u001b[0m\u001b[0m\n",
      "\u001b[1;32mC:\\Program Files\\Anaconda3\\lib\\site-packages\\sklearn\\utils\\validation.py\u001b[0m in \u001b[0;36minner_f\u001b[1;34m(*args, **kwargs)\u001b[0m\n\u001b[0;32m     61\u001b[0m             \u001b[0mextra_args\u001b[0m \u001b[1;33m=\u001b[0m \u001b[0mlen\u001b[0m\u001b[1;33m(\u001b[0m\u001b[0margs\u001b[0m\u001b[1;33m)\u001b[0m \u001b[1;33m-\u001b[0m \u001b[0mlen\u001b[0m\u001b[1;33m(\u001b[0m\u001b[0mall_args\u001b[0m\u001b[1;33m)\u001b[0m\u001b[1;33m\u001b[0m\u001b[1;33m\u001b[0m\u001b[0m\n\u001b[0;32m     62\u001b[0m             \u001b[1;32mif\u001b[0m \u001b[0mextra_args\u001b[0m \u001b[1;33m<=\u001b[0m \u001b[1;36m0\u001b[0m\u001b[1;33m:\u001b[0m\u001b[1;33m\u001b[0m\u001b[1;33m\u001b[0m\u001b[0m\n\u001b[1;32m---> 63\u001b[1;33m                 \u001b[1;32mreturn\u001b[0m \u001b[0mf\u001b[0m\u001b[1;33m(\u001b[0m\u001b[1;33m*\u001b[0m\u001b[0margs\u001b[0m\u001b[1;33m,\u001b[0m \u001b[1;33m**\u001b[0m\u001b[0mkwargs\u001b[0m\u001b[1;33m)\u001b[0m\u001b[1;33m\u001b[0m\u001b[1;33m\u001b[0m\u001b[0m\n\u001b[0m\u001b[0;32m     64\u001b[0m \u001b[1;33m\u001b[0m\u001b[0m\n\u001b[0;32m     65\u001b[0m             \u001b[1;31m# extra_args > 0\u001b[0m\u001b[1;33m\u001b[0m\u001b[1;33m\u001b[0m\u001b[1;33m\u001b[0m\u001b[0m\n",
      "\u001b[1;32mC:\\Program Files\\Anaconda3\\lib\\site-packages\\sklearn\\utils\\validation.py\u001b[0m in \u001b[0;36mcheck_array\u001b[1;34m(array, accept_sparse, accept_large_sparse, dtype, order, copy, force_all_finite, ensure_2d, allow_nd, ensure_min_samples, ensure_min_features, estimator)\u001b[0m\n\u001b[0;32m    661\u001b[0m \u001b[1;33m\u001b[0m\u001b[0m\n\u001b[0;32m    662\u001b[0m         \u001b[1;32mif\u001b[0m \u001b[0mforce_all_finite\u001b[0m\u001b[1;33m:\u001b[0m\u001b[1;33m\u001b[0m\u001b[1;33m\u001b[0m\u001b[0m\n\u001b[1;32m--> 663\u001b[1;33m             _assert_all_finite(array,\n\u001b[0m\u001b[0;32m    664\u001b[0m                                allow_nan=force_all_finite == 'allow-nan')\n\u001b[0;32m    665\u001b[0m \u001b[1;33m\u001b[0m\u001b[0m\n",
      "\u001b[1;32mC:\\Program Files\\Anaconda3\\lib\\site-packages\\sklearn\\utils\\validation.py\u001b[0m in \u001b[0;36m_assert_all_finite\u001b[1;34m(X, allow_nan, msg_dtype)\u001b[0m\n\u001b[0;32m    101\u001b[0m                 not allow_nan and not np.isfinite(X).all()):\n\u001b[0;32m    102\u001b[0m             \u001b[0mtype_err\u001b[0m \u001b[1;33m=\u001b[0m \u001b[1;34m'infinity'\u001b[0m \u001b[1;32mif\u001b[0m \u001b[0mallow_nan\u001b[0m \u001b[1;32melse\u001b[0m \u001b[1;34m'NaN, infinity'\u001b[0m\u001b[1;33m\u001b[0m\u001b[1;33m\u001b[0m\u001b[0m\n\u001b[1;32m--> 103\u001b[1;33m             raise ValueError(\n\u001b[0m\u001b[0;32m    104\u001b[0m                     \u001b[0mmsg_err\u001b[0m\u001b[1;33m.\u001b[0m\u001b[0mformat\u001b[0m\u001b[1;33m\u001b[0m\u001b[1;33m\u001b[0m\u001b[0m\n\u001b[0;32m    105\u001b[0m                     (type_err,\n",
      "\u001b[1;31mValueError\u001b[0m: Input contains NaN, infinity or a value too large for dtype('float32')."
     ]
    }
   ],
   "source": [
    "clf = DecisionTreeClassifier ()\n",
    "clf = clf.fit(X_train , y_train)\n",
    "y_pred2 = clf.predict (X_test)"
   ]
  },
  {
   "cell_type": "markdown",
   "metadata": {},
   "source": [
    "Extra question: In your initial project report, you have proposed several descriptive questions. Pick one to explore."
   ]
  },
  {
   "cell_type": "code",
   "execution_count": 95,
   "metadata": {},
   "outputs": [
    {
     "data": {
      "text/plain": [
       "'Wholesale'"
      ]
     },
     "execution_count": 95,
     "metadata": {},
     "output_type": "execute_result"
    },
    {
     "data": {
      "text/plain": [
       "'Agriculture'"
      ]
     },
     "execution_count": 95,
     "metadata": {},
     "output_type": "execute_result"
    }
   ],
   "source": [
    "#WHAT  SECTOR   HAS THE MAXIMUM AND MINIMUM AMOUNT OF LOAN?\n",
    "newLoans['SECTOR_NAME'].max()\n",
    "newLoans['SECTOR_NAME'].min()\n"
   ]
  }
 ],
 "metadata": {
  "kernelspec": {
   "display_name": "Python 3 (ipykernel)",
   "language": "python",
   "name": "python3"
  },
  "language_info": {
   "codemirror_mode": {
    "name": "ipython",
    "version": 3
   },
   "file_extension": ".py",
   "mimetype": "text/x-python",
   "name": "python",
   "nbconvert_exporter": "python",
   "pygments_lexer": "ipython3",
   "version": "3.9.7"
  }
 },
 "nbformat": 4,
 "nbformat_minor": 2
}
